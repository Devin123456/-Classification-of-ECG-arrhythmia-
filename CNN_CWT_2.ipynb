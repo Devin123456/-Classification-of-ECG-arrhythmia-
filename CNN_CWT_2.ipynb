{
  "nbformat": 4,
  "nbformat_minor": 0,
  "metadata": {
    "colab": {
      "provenance": []
    },
    "kernelspec": {
      "name": "python3",
      "display_name": "Python 3"
    },
    "language_info": {
      "name": "python"
    },
    "gpuClass": "standard"
  },
  "cells": [
    {
      "cell_type": "markdown",
      "source": [
        "Impoort the required data libraries"
      ],
      "metadata": {
        "id": "oBF3-0wGe_Y1"
      }
    },
    {
      "cell_type": "code",
      "execution_count": null,
      "metadata": {
        "id": "KjClPrPIcK0W"
      },
      "outputs": [],
      "source": [
        "import pandas as pd\n",
        "import numpy as np\n",
        "import matplotlib.pyplot as plt\n",
        "from os import listdir\n",
        "import os\n",
        "from google.colab import files\n",
        "import pywt\n"
      ]
    },
    {
      "cell_type": "code",
      "source": [
        "import tensorflow as tf\n",
        "from sklearn.metrics import accuracy_score, precision_score, recall_score\n",
        "from sklearn.model_selection import train_test_split\n",
        "from tensorflow.keras import layers, losses\n",
        "from tensorflow.keras.datasets import fashion_mnist\n",
        "from tensorflow.keras.models import Model\n",
        "from sklearn.preprocessing import MinMaxScaler, StandardScaler\n",
        "import tensorflow as tf\n",
        "from tensorflow.keras.models import Model\n",
        "\n",
        "from keras.layers import Dense, Flatten\n",
        "from keras.layers import Conv2D, MaxPooling2D\n",
        "from keras.models import Sequential\n",
        "from keras.callbacks import History "
      ],
      "metadata": {
        "id": "NU2aKHRbZK0e"
      },
      "execution_count": null,
      "outputs": []
    },
    {
      "cell_type": "code",
      "source": [
        "from keras.layers import Dense, Flatten\n",
        "from keras.layers import Conv2D, MaxPooling2D\n",
        "from keras.models import Sequential\n",
        "from keras.callbacks import History \n",
        "from tensorflow.keras.layers import Dropout\n"
      ],
      "metadata": {
        "id": "FZlUq9eJZQoS"
      },
      "execution_count": null,
      "outputs": []
    },
    {
      "cell_type": "markdown",
      "source": [
        "Connect with google drive to extract the pre-processed datasets"
      ],
      "metadata": {
        "id": "INXNhShTfGIW"
      }
    },
    {
      "cell_type": "code",
      "source": [
        "from google.colab import drive\n",
        "drive.mount('/content/gdrive')"
      ],
      "metadata": {
        "colab": {
          "base_uri": "https://localhost:8080/"
        },
        "id": "P4pT92oad0z3",
        "outputId": "eaa83f5a-996e-4f67-84df-355ab9873436"
      },
      "execution_count": null,
      "outputs": [
        {
          "output_type": "stream",
          "name": "stdout",
          "text": [
            "Mounted at /content/gdrive\n"
          ]
        }
      ]
    },
    {
      "cell_type": "markdown",
      "source": [
        "Import the Training and Test files "
      ],
      "metadata": {
        "id": "Y3PFL_pAjpW6"
      }
    },
    {
      "cell_type": "code",
      "source": [
        "df_X_train = pd.read_csv('/content/gdrive/MyDrive/Colab Notebooks/X_train_full_samp.csv')\n",
        "df_X_valid = pd.read_csv('/content/gdrive/MyDrive/Colab Notebooks/X_valid_full_samp.csv')"
      ],
      "metadata": {
        "id": "01mxHj-7cZU_"
      },
      "execution_count": null,
      "outputs": []
    },
    {
      "cell_type": "code",
      "source": [
        "df_X_train"
      ],
      "metadata": {
        "id": "7W9pxl8JB6E3",
        "outputId": "91bbefd3-5387-42ba-df1e-af904f473ceb",
        "colab": {
          "base_uri": "https://localhost:8080/",
          "height": 424
        }
      },
      "execution_count": null,
      "outputs": [
        {
          "output_type": "execute_result",
          "data": {
            "text/plain": [
              "      Unnamed: 0   c0     c1     c2     c3     c4     c5     c6     c7     c8  \\\n",
              "0          38710  1.0 -0.020 -0.015  0.005 -0.005 -0.005  0.005  0.020  0.020   \n",
              "1          22672  0.0 -0.950 -0.955 -0.980 -1.000 -1.015 -1.025 -1.020 -1.020   \n",
              "2           9844  0.0 -0.335 -0.350 -0.360 -0.365 -0.365 -0.345 -0.320 -0.320   \n",
              "3          45594  1.0 -0.560 -0.590 -0.610 -0.650 -0.675 -0.680 -0.700 -0.695   \n",
              "4          45688  1.0 -0.665 -0.660 -0.695 -0.730 -0.730 -0.715 -0.700 -0.650   \n",
              "...          ...  ...    ...    ...    ...    ...    ...    ...    ...    ...   \n",
              "8258       20163  0.0  0.025  0.015 -0.020 -0.035 -0.050 -0.050 -0.070 -0.075   \n",
              "8259       32294  0.0 -2.055 -2.025 -1.970 -1.940 -1.885 -1.855 -1.795 -1.740   \n",
              "8260       55501  1.0 -0.380 -0.360 -0.355 -0.370 -0.355 -0.350 -0.330 -0.350   \n",
              "8261       80827  0.0 -1.120 -1.115 -1.110 -1.100 -1.085 -1.060 -1.030 -0.985   \n",
              "8262       36531  0.0 -0.370 -0.420 -0.395 -0.245  0.085  0.555  1.085  1.550   \n",
              "\n",
              "      ...   c711   c712   c713   c714   c715   c716   c717   c718   c719  \\\n",
              "0     ... -0.060 -0.050 -0.050 -0.040 -0.040 -0.050 -0.050 -0.060 -0.055   \n",
              "1     ... -0.830 -0.835 -0.850 -0.850 -0.865 -0.865 -0.860 -0.850 -0.845   \n",
              "2     ... -0.170 -0.175 -0.175 -0.185 -0.160 -0.165 -0.170 -0.170 -0.175   \n",
              "3     ... -0.900 -0.925 -0.940 -0.945 -0.950 -0.945 -0.940 -0.940 -0.935   \n",
              "4     ... -1.060 -1.065 -1.080 -1.090 -1.100 -1.120 -1.115 -1.100 -1.100   \n",
              "...   ...    ...    ...    ...    ...    ...    ...    ...    ...    ...   \n",
              "8258  ...  0.025  0.010 -0.005  0.000  0.005 -0.005  0.000 -0.025 -0.030   \n",
              "8259  ... -0.950 -0.950 -0.970 -0.970 -0.985 -0.990 -0.985 -0.990 -0.950   \n",
              "8260  ... -0.190 -0.185 -0.180 -0.190 -0.170 -0.145 -0.135 -0.120 -0.100   \n",
              "8261  ... -0.010 -0.005  0.005  0.020  0.015  0.015  0.010  0.015  0.010   \n",
              "8262  ... -0.045 -0.025  0.030  0.125  0.165  0.140  0.110  0.080  0.055   \n",
              "\n",
              "       c720  \n",
              "0    -0.035  \n",
              "1    -0.850  \n",
              "2    -0.165  \n",
              "3    -0.945  \n",
              "4    -1.095  \n",
              "...     ...  \n",
              "8258 -0.020  \n",
              "8259 -0.970  \n",
              "8260 -0.075  \n",
              "8261  0.015  \n",
              "8262  0.050  \n",
              "\n",
              "[8263 rows x 722 columns]"
            ],
            "text/html": [
              "\n",
              "  <div id=\"df-7fb7ec20-c69d-44bb-a5b9-eca2acf25380\">\n",
              "    <div class=\"colab-df-container\">\n",
              "      <div>\n",
              "<style scoped>\n",
              "    .dataframe tbody tr th:only-of-type {\n",
              "        vertical-align: middle;\n",
              "    }\n",
              "\n",
              "    .dataframe tbody tr th {\n",
              "        vertical-align: top;\n",
              "    }\n",
              "\n",
              "    .dataframe thead th {\n",
              "        text-align: right;\n",
              "    }\n",
              "</style>\n",
              "<table border=\"1\" class=\"dataframe\">\n",
              "  <thead>\n",
              "    <tr style=\"text-align: right;\">\n",
              "      <th></th>\n",
              "      <th>Unnamed: 0</th>\n",
              "      <th>c0</th>\n",
              "      <th>c1</th>\n",
              "      <th>c2</th>\n",
              "      <th>c3</th>\n",
              "      <th>c4</th>\n",
              "      <th>c5</th>\n",
              "      <th>c6</th>\n",
              "      <th>c7</th>\n",
              "      <th>c8</th>\n",
              "      <th>...</th>\n",
              "      <th>c711</th>\n",
              "      <th>c712</th>\n",
              "      <th>c713</th>\n",
              "      <th>c714</th>\n",
              "      <th>c715</th>\n",
              "      <th>c716</th>\n",
              "      <th>c717</th>\n",
              "      <th>c718</th>\n",
              "      <th>c719</th>\n",
              "      <th>c720</th>\n",
              "    </tr>\n",
              "  </thead>\n",
              "  <tbody>\n",
              "    <tr>\n",
              "      <th>0</th>\n",
              "      <td>38710</td>\n",
              "      <td>1.0</td>\n",
              "      <td>-0.020</td>\n",
              "      <td>-0.015</td>\n",
              "      <td>0.005</td>\n",
              "      <td>-0.005</td>\n",
              "      <td>-0.005</td>\n",
              "      <td>0.005</td>\n",
              "      <td>0.020</td>\n",
              "      <td>0.020</td>\n",
              "      <td>...</td>\n",
              "      <td>-0.060</td>\n",
              "      <td>-0.050</td>\n",
              "      <td>-0.050</td>\n",
              "      <td>-0.040</td>\n",
              "      <td>-0.040</td>\n",
              "      <td>-0.050</td>\n",
              "      <td>-0.050</td>\n",
              "      <td>-0.060</td>\n",
              "      <td>-0.055</td>\n",
              "      <td>-0.035</td>\n",
              "    </tr>\n",
              "    <tr>\n",
              "      <th>1</th>\n",
              "      <td>22672</td>\n",
              "      <td>0.0</td>\n",
              "      <td>-0.950</td>\n",
              "      <td>-0.955</td>\n",
              "      <td>-0.980</td>\n",
              "      <td>-1.000</td>\n",
              "      <td>-1.015</td>\n",
              "      <td>-1.025</td>\n",
              "      <td>-1.020</td>\n",
              "      <td>-1.020</td>\n",
              "      <td>...</td>\n",
              "      <td>-0.830</td>\n",
              "      <td>-0.835</td>\n",
              "      <td>-0.850</td>\n",
              "      <td>-0.850</td>\n",
              "      <td>-0.865</td>\n",
              "      <td>-0.865</td>\n",
              "      <td>-0.860</td>\n",
              "      <td>-0.850</td>\n",
              "      <td>-0.845</td>\n",
              "      <td>-0.850</td>\n",
              "    </tr>\n",
              "    <tr>\n",
              "      <th>2</th>\n",
              "      <td>9844</td>\n",
              "      <td>0.0</td>\n",
              "      <td>-0.335</td>\n",
              "      <td>-0.350</td>\n",
              "      <td>-0.360</td>\n",
              "      <td>-0.365</td>\n",
              "      <td>-0.365</td>\n",
              "      <td>-0.345</td>\n",
              "      <td>-0.320</td>\n",
              "      <td>-0.320</td>\n",
              "      <td>...</td>\n",
              "      <td>-0.170</td>\n",
              "      <td>-0.175</td>\n",
              "      <td>-0.175</td>\n",
              "      <td>-0.185</td>\n",
              "      <td>-0.160</td>\n",
              "      <td>-0.165</td>\n",
              "      <td>-0.170</td>\n",
              "      <td>-0.170</td>\n",
              "      <td>-0.175</td>\n",
              "      <td>-0.165</td>\n",
              "    </tr>\n",
              "    <tr>\n",
              "      <th>3</th>\n",
              "      <td>45594</td>\n",
              "      <td>1.0</td>\n",
              "      <td>-0.560</td>\n",
              "      <td>-0.590</td>\n",
              "      <td>-0.610</td>\n",
              "      <td>-0.650</td>\n",
              "      <td>-0.675</td>\n",
              "      <td>-0.680</td>\n",
              "      <td>-0.700</td>\n",
              "      <td>-0.695</td>\n",
              "      <td>...</td>\n",
              "      <td>-0.900</td>\n",
              "      <td>-0.925</td>\n",
              "      <td>-0.940</td>\n",
              "      <td>-0.945</td>\n",
              "      <td>-0.950</td>\n",
              "      <td>-0.945</td>\n",
              "      <td>-0.940</td>\n",
              "      <td>-0.940</td>\n",
              "      <td>-0.935</td>\n",
              "      <td>-0.945</td>\n",
              "    </tr>\n",
              "    <tr>\n",
              "      <th>4</th>\n",
              "      <td>45688</td>\n",
              "      <td>1.0</td>\n",
              "      <td>-0.665</td>\n",
              "      <td>-0.660</td>\n",
              "      <td>-0.695</td>\n",
              "      <td>-0.730</td>\n",
              "      <td>-0.730</td>\n",
              "      <td>-0.715</td>\n",
              "      <td>-0.700</td>\n",
              "      <td>-0.650</td>\n",
              "      <td>...</td>\n",
              "      <td>-1.060</td>\n",
              "      <td>-1.065</td>\n",
              "      <td>-1.080</td>\n",
              "      <td>-1.090</td>\n",
              "      <td>-1.100</td>\n",
              "      <td>-1.120</td>\n",
              "      <td>-1.115</td>\n",
              "      <td>-1.100</td>\n",
              "      <td>-1.100</td>\n",
              "      <td>-1.095</td>\n",
              "    </tr>\n",
              "    <tr>\n",
              "      <th>...</th>\n",
              "      <td>...</td>\n",
              "      <td>...</td>\n",
              "      <td>...</td>\n",
              "      <td>...</td>\n",
              "      <td>...</td>\n",
              "      <td>...</td>\n",
              "      <td>...</td>\n",
              "      <td>...</td>\n",
              "      <td>...</td>\n",
              "      <td>...</td>\n",
              "      <td>...</td>\n",
              "      <td>...</td>\n",
              "      <td>...</td>\n",
              "      <td>...</td>\n",
              "      <td>...</td>\n",
              "      <td>...</td>\n",
              "      <td>...</td>\n",
              "      <td>...</td>\n",
              "      <td>...</td>\n",
              "      <td>...</td>\n",
              "      <td>...</td>\n",
              "    </tr>\n",
              "    <tr>\n",
              "      <th>8258</th>\n",
              "      <td>20163</td>\n",
              "      <td>0.0</td>\n",
              "      <td>0.025</td>\n",
              "      <td>0.015</td>\n",
              "      <td>-0.020</td>\n",
              "      <td>-0.035</td>\n",
              "      <td>-0.050</td>\n",
              "      <td>-0.050</td>\n",
              "      <td>-0.070</td>\n",
              "      <td>-0.075</td>\n",
              "      <td>...</td>\n",
              "      <td>0.025</td>\n",
              "      <td>0.010</td>\n",
              "      <td>-0.005</td>\n",
              "      <td>0.000</td>\n",
              "      <td>0.005</td>\n",
              "      <td>-0.005</td>\n",
              "      <td>0.000</td>\n",
              "      <td>-0.025</td>\n",
              "      <td>-0.030</td>\n",
              "      <td>-0.020</td>\n",
              "    </tr>\n",
              "    <tr>\n",
              "      <th>8259</th>\n",
              "      <td>32294</td>\n",
              "      <td>0.0</td>\n",
              "      <td>-2.055</td>\n",
              "      <td>-2.025</td>\n",
              "      <td>-1.970</td>\n",
              "      <td>-1.940</td>\n",
              "      <td>-1.885</td>\n",
              "      <td>-1.855</td>\n",
              "      <td>-1.795</td>\n",
              "      <td>-1.740</td>\n",
              "      <td>...</td>\n",
              "      <td>-0.950</td>\n",
              "      <td>-0.950</td>\n",
              "      <td>-0.970</td>\n",
              "      <td>-0.970</td>\n",
              "      <td>-0.985</td>\n",
              "      <td>-0.990</td>\n",
              "      <td>-0.985</td>\n",
              "      <td>-0.990</td>\n",
              "      <td>-0.950</td>\n",
              "      <td>-0.970</td>\n",
              "    </tr>\n",
              "    <tr>\n",
              "      <th>8260</th>\n",
              "      <td>55501</td>\n",
              "      <td>1.0</td>\n",
              "      <td>-0.380</td>\n",
              "      <td>-0.360</td>\n",
              "      <td>-0.355</td>\n",
              "      <td>-0.370</td>\n",
              "      <td>-0.355</td>\n",
              "      <td>-0.350</td>\n",
              "      <td>-0.330</td>\n",
              "      <td>-0.350</td>\n",
              "      <td>...</td>\n",
              "      <td>-0.190</td>\n",
              "      <td>-0.185</td>\n",
              "      <td>-0.180</td>\n",
              "      <td>-0.190</td>\n",
              "      <td>-0.170</td>\n",
              "      <td>-0.145</td>\n",
              "      <td>-0.135</td>\n",
              "      <td>-0.120</td>\n",
              "      <td>-0.100</td>\n",
              "      <td>-0.075</td>\n",
              "    </tr>\n",
              "    <tr>\n",
              "      <th>8261</th>\n",
              "      <td>80827</td>\n",
              "      <td>0.0</td>\n",
              "      <td>-1.120</td>\n",
              "      <td>-1.115</td>\n",
              "      <td>-1.110</td>\n",
              "      <td>-1.100</td>\n",
              "      <td>-1.085</td>\n",
              "      <td>-1.060</td>\n",
              "      <td>-1.030</td>\n",
              "      <td>-0.985</td>\n",
              "      <td>...</td>\n",
              "      <td>-0.010</td>\n",
              "      <td>-0.005</td>\n",
              "      <td>0.005</td>\n",
              "      <td>0.020</td>\n",
              "      <td>0.015</td>\n",
              "      <td>0.015</td>\n",
              "      <td>0.010</td>\n",
              "      <td>0.015</td>\n",
              "      <td>0.010</td>\n",
              "      <td>0.015</td>\n",
              "    </tr>\n",
              "    <tr>\n",
              "      <th>8262</th>\n",
              "      <td>36531</td>\n",
              "      <td>0.0</td>\n",
              "      <td>-0.370</td>\n",
              "      <td>-0.420</td>\n",
              "      <td>-0.395</td>\n",
              "      <td>-0.245</td>\n",
              "      <td>0.085</td>\n",
              "      <td>0.555</td>\n",
              "      <td>1.085</td>\n",
              "      <td>1.550</td>\n",
              "      <td>...</td>\n",
              "      <td>-0.045</td>\n",
              "      <td>-0.025</td>\n",
              "      <td>0.030</td>\n",
              "      <td>0.125</td>\n",
              "      <td>0.165</td>\n",
              "      <td>0.140</td>\n",
              "      <td>0.110</td>\n",
              "      <td>0.080</td>\n",
              "      <td>0.055</td>\n",
              "      <td>0.050</td>\n",
              "    </tr>\n",
              "  </tbody>\n",
              "</table>\n",
              "<p>8263 rows × 722 columns</p>\n",
              "</div>\n",
              "      <button class=\"colab-df-convert\" onclick=\"convertToInteractive('df-7fb7ec20-c69d-44bb-a5b9-eca2acf25380')\"\n",
              "              title=\"Convert this dataframe to an interactive table.\"\n",
              "              style=\"display:none;\">\n",
              "        \n",
              "  <svg xmlns=\"http://www.w3.org/2000/svg\" height=\"24px\"viewBox=\"0 0 24 24\"\n",
              "       width=\"24px\">\n",
              "    <path d=\"M0 0h24v24H0V0z\" fill=\"none\"/>\n",
              "    <path d=\"M18.56 5.44l.94 2.06.94-2.06 2.06-.94-2.06-.94-.94-2.06-.94 2.06-2.06.94zm-11 1L8.5 8.5l.94-2.06 2.06-.94-2.06-.94L8.5 2.5l-.94 2.06-2.06.94zm10 10l.94 2.06.94-2.06 2.06-.94-2.06-.94-.94-2.06-.94 2.06-2.06.94z\"/><path d=\"M17.41 7.96l-1.37-1.37c-.4-.4-.92-.59-1.43-.59-.52 0-1.04.2-1.43.59L10.3 9.45l-7.72 7.72c-.78.78-.78 2.05 0 2.83L4 21.41c.39.39.9.59 1.41.59.51 0 1.02-.2 1.41-.59l7.78-7.78 2.81-2.81c.8-.78.8-2.07 0-2.86zM5.41 20L4 18.59l7.72-7.72 1.47 1.35L5.41 20z\"/>\n",
              "  </svg>\n",
              "      </button>\n",
              "      \n",
              "  <style>\n",
              "    .colab-df-container {\n",
              "      display:flex;\n",
              "      flex-wrap:wrap;\n",
              "      gap: 12px;\n",
              "    }\n",
              "\n",
              "    .colab-df-convert {\n",
              "      background-color: #E8F0FE;\n",
              "      border: none;\n",
              "      border-radius: 50%;\n",
              "      cursor: pointer;\n",
              "      display: none;\n",
              "      fill: #1967D2;\n",
              "      height: 32px;\n",
              "      padding: 0 0 0 0;\n",
              "      width: 32px;\n",
              "    }\n",
              "\n",
              "    .colab-df-convert:hover {\n",
              "      background-color: #E2EBFA;\n",
              "      box-shadow: 0px 1px 2px rgba(60, 64, 67, 0.3), 0px 1px 3px 1px rgba(60, 64, 67, 0.15);\n",
              "      fill: #174EA6;\n",
              "    }\n",
              "\n",
              "    [theme=dark] .colab-df-convert {\n",
              "      background-color: #3B4455;\n",
              "      fill: #D2E3FC;\n",
              "    }\n",
              "\n",
              "    [theme=dark] .colab-df-convert:hover {\n",
              "      background-color: #434B5C;\n",
              "      box-shadow: 0px 1px 3px 1px rgba(0, 0, 0, 0.15);\n",
              "      filter: drop-shadow(0px 1px 2px rgba(0, 0, 0, 0.3));\n",
              "      fill: #FFFFFF;\n",
              "    }\n",
              "  </style>\n",
              "\n",
              "      <script>\n",
              "        const buttonEl =\n",
              "          document.querySelector('#df-7fb7ec20-c69d-44bb-a5b9-eca2acf25380 button.colab-df-convert');\n",
              "        buttonEl.style.display =\n",
              "          google.colab.kernel.accessAllowed ? 'block' : 'none';\n",
              "\n",
              "        async function convertToInteractive(key) {\n",
              "          const element = document.querySelector('#df-7fb7ec20-c69d-44bb-a5b9-eca2acf25380');\n",
              "          const dataTable =\n",
              "            await google.colab.kernel.invokeFunction('convertToInteractive',\n",
              "                                                     [key], {});\n",
              "          if (!dataTable) return;\n",
              "\n",
              "          const docLinkHtml = 'Like what you see? Visit the ' +\n",
              "            '<a target=\"_blank\" href=https://colab.research.google.com/notebooks/data_table.ipynb>data table notebook</a>'\n",
              "            + ' to learn more about interactive tables.';\n",
              "          element.innerHTML = '';\n",
              "          dataTable['output_type'] = 'display_data';\n",
              "          await google.colab.output.renderOutput(dataTable, element);\n",
              "          const docLink = document.createElement('div');\n",
              "          docLink.innerHTML = docLinkHtml;\n",
              "          element.appendChild(docLink);\n",
              "        }\n",
              "      </script>\n",
              "    </div>\n",
              "  </div>\n",
              "  "
            ]
          },
          "metadata": {},
          "execution_count": 6
        }
      ]
    },
    {
      "cell_type": "code",
      "source": [
        "#Check shape of the two data frames\n",
        "df_X_train.shape, df_X_valid.shape"
      ],
      "metadata": {
        "colab": {
          "base_uri": "https://localhost:8080/"
        },
        "id": "7z3NE57NfcLM",
        "outputId": "da3cda75-e2cc-416e-db13-3dc662272888"
      },
      "execution_count": null,
      "outputs": [
        {
          "output_type": "execute_result",
          "data": {
            "text/plain": [
              "((8263, 722), (2671, 722))"
            ]
          },
          "metadata": {},
          "execution_count": 7
        }
      ]
    },
    {
      "cell_type": "code",
      "source": [
        "#Drop the 'Unnamed: 0' columsn from the dataframes\n",
        "df_X_train = df_X_train.drop(['Unnamed: 0'], axis=1)\n",
        "df_X_valid = df_X_valid.drop(['Unnamed: 0'], axis=1)\n"
      ],
      "metadata": {
        "id": "3Q8BpcrFfzWh"
      },
      "execution_count": null,
      "outputs": []
    },
    {
      "cell_type": "code",
      "source": [
        "#Get the lable values (y values)\n",
        "\n",
        "train_labels = df_X_train.values[:, 0]\n",
        "test_labels = df_X_valid.values[:, 0]\n",
        "\n",
        "train_labels.shape,test_labels.shape"
      ],
      "metadata": {
        "colab": {
          "base_uri": "https://localhost:8080/"
        },
        "id": "fNNlBkgPkF0x",
        "outputId": "75d56ae1-4f84-4ebe-e83f-4c49f2d75749"
      },
      "execution_count": null,
      "outputs": [
        {
          "output_type": "execute_result",
          "data": {
            "text/plain": [
              "((8263,), (2671,))"
            ]
          },
          "metadata": {},
          "execution_count": 9
        }
      ]
    },
    {
      "cell_type": "code",
      "source": [
        "#Get the predictor values (X values)\n",
        "train_data =  df_X_train.values[:, 1:]\n",
        "test_data=  df_X_valid.values[:, 1:]\n",
        "\n",
        "\n",
        "train_data.shape, test_data.shape"
      ],
      "metadata": {
        "id": "lINZPVPfcceW",
        "colab": {
          "base_uri": "https://localhost:8080/"
        },
        "outputId": "9a0c761c-bcc3-4063-c438-18caa2ff5681"
      },
      "execution_count": null,
      "outputs": [
        {
          "output_type": "execute_result",
          "data": {
            "text/plain": [
              "((8263, 720), (2671, 720))"
            ]
          },
          "metadata": {},
          "execution_count": 10
        }
      ]
    },
    {
      "cell_type": "code",
      "source": [
        "train_data"
      ],
      "metadata": {
        "colab": {
          "base_uri": "https://localhost:8080/"
        },
        "id": "TIG9OKnaGOYv",
        "outputId": "b955d7f6-ca82-43fa-865b-8ea948e3ff1c"
      },
      "execution_count": null,
      "outputs": [
        {
          "output_type": "execute_result",
          "data": {
            "text/plain": [
              "array([[-0.02 , -0.015,  0.005, ..., -0.06 , -0.055, -0.035],\n",
              "       [-0.95 , -0.955, -0.98 , ..., -0.85 , -0.845, -0.85 ],\n",
              "       [-0.335, -0.35 , -0.36 , ..., -0.17 , -0.175, -0.165],\n",
              "       ...,\n",
              "       [-0.38 , -0.36 , -0.355, ..., -0.12 , -0.1  , -0.075],\n",
              "       [-1.12 , -1.115, -1.11 , ...,  0.015,  0.01 ,  0.015],\n",
              "       [-0.37 , -0.42 , -0.395, ...,  0.08 ,  0.055,  0.05 ]])"
            ]
          },
          "metadata": {},
          "execution_count": 11
        }
      ]
    },
    {
      "cell_type": "code",
      "source": [
        "\n",
        "from sklearn.preprocessing import StandardScaler\n",
        "scaler = StandardScaler()\n",
        "scaler.fit(train_data)\n",
        "train_data = scaler.transform(train_data)\n",
        "test_data = scaler.transform(test_data)"
      ],
      "metadata": {
        "id": "juMsyGjWC6hf"
      },
      "execution_count": null,
      "outputs": []
    },
    {
      "cell_type": "code",
      "source": [
        "train_data.shape, train_labels.shape, test_data.shape, test_labels.shape"
      ],
      "metadata": {
        "colab": {
          "base_uri": "https://localhost:8080/"
        },
        "id": "YOZlVfNCf_3F",
        "outputId": "d45d8fe7-b233-457b-fc5d-5ee08e680449"
      },
      "execution_count": null,
      "outputs": [
        {
          "output_type": "execute_result",
          "data": {
            "text/plain": [
              "((8263, 720), (8263,), (2671, 720), (2671,))"
            ]
          },
          "metadata": {},
          "execution_count": 13
        }
      ]
    },
    {
      "cell_type": "code",
      "source": [
        "train_data_ab = train_data.reshape(8263, 720,1)\n",
        "train_data_ab.shape"
      ],
      "metadata": {
        "colab": {
          "base_uri": "https://localhost:8080/"
        },
        "id": "lYjwFtFrgkmt",
        "outputId": "a71004b5-8aa1-406f-ae0f-0d9b3669da0c"
      },
      "execution_count": null,
      "outputs": [
        {
          "output_type": "execute_result",
          "data": {
            "text/plain": [
              "(8263, 720, 1)"
            ]
          },
          "metadata": {},
          "execution_count": 14
        }
      ]
    },
    {
      "cell_type": "code",
      "source": [
        "test_data_ab = test_data.reshape(2671,720,1)\n",
        "test_data_ab.shape"
      ],
      "metadata": {
        "colab": {
          "base_uri": "https://localhost:8080/"
        },
        "id": "h4XaqoLxhCbl",
        "outputId": "032cd12d-0d67-475d-85b4-c8d80876f7b7"
      },
      "execution_count": null,
      "outputs": [
        {
          "output_type": "execute_result",
          "data": {
            "text/plain": [
              "(2671, 720, 1)"
            ]
          },
          "metadata": {},
          "execution_count": 15
        }
      ]
    },
    {
      "cell_type": "code",
      "source": [
        "train_labels_ab = train_labels.reshape(8263,1)\n",
        "test_labels_ab = test_labels.reshape(2671,1)\n",
        "train_labels_ab.shape, test_labels_ab.shape"
      ],
      "metadata": {
        "colab": {
          "base_uri": "https://localhost:8080/"
        },
        "id": "2rG4ljimhHrF",
        "outputId": "74b7dbeb-e1e3-4f17-c898-2f1efb6c102e"
      },
      "execution_count": null,
      "outputs": [
        {
          "output_type": "execute_result",
          "data": {
            "text/plain": [
              "((8263, 1), (2671, 1))"
            ]
          },
          "metadata": {},
          "execution_count": 16
        }
      ]
    },
    {
      "cell_type": "code",
      "source": [
        "import pywt"
      ],
      "metadata": {
        "id": "S5FppjcehM4V"
      },
      "execution_count": null,
      "outputs": []
    },
    {
      "cell_type": "code",
      "source": [
        "scales = range(1,128)\n",
        "waveletname = 'mexh'\n",
        "train_size = 8263\n",
        "test_size= 2671\n",
        "train_data_cwt = np.ndarray(shape=(train_size, 127, 127, 1))"
      ],
      "metadata": {
        "id": "d0rv29Z43tbW"
      },
      "execution_count": null,
      "outputs": []
    },
    {
      "cell_type": "code",
      "source": [
        "train_data_cwt = np.ndarray(shape=(train_size, 127, 127))\n",
        "for ii in range(0,train_size):\n",
        "        signal = train_data[ii, :]\n",
        "        coeff, freq = pywt.cwt(signal, scales, waveletname, 1)\n",
        "        coeff_ = coeff[:,:127]\n",
        "        train_data_cwt[ii, :, :] = coeff_\n",
        "\n",
        "\n",
        "x_train_ab = train_data_cwt\n",
        "\n"
      ],
      "metadata": {
        "id": "gf4Go76l5rzw"
      },
      "execution_count": null,
      "outputs": []
    },
    {
      "cell_type": "code",
      "source": [
        "x_train_ab.shape"
      ],
      "metadata": {
        "colab": {
          "base_uri": "https://localhost:8080/"
        },
        "id": "IQ5JtHERAZoj",
        "outputId": "40f320b2-36dc-4254-cf66-96368d0b7186"
      },
      "execution_count": null,
      "outputs": [
        {
          "output_type": "execute_result",
          "data": {
            "text/plain": [
              "(8263, 127, 127)"
            ]
          },
          "metadata": {},
          "execution_count": 20
        }
      ]
    },
    {
      "cell_type": "code",
      "source": [
        "x_train = x_train_ab.reshape(8263, 127,127,1)\n",
        "x_train.shape"
      ],
      "metadata": {
        "colab": {
          "base_uri": "https://localhost:8080/"
        },
        "id": "WegjIjZx6jxZ",
        "outputId": "d611b8c6-980e-421c-8534-f25f41185ca3"
      },
      "execution_count": null,
      "outputs": [
        {
          "output_type": "execute_result",
          "data": {
            "text/plain": [
              "(8263, 127, 127, 1)"
            ]
          },
          "metadata": {},
          "execution_count": 21
        }
      ]
    },
    {
      "cell_type": "code",
      "source": [
        "test_data_cwt = np.ndarray(shape=(test_size, 127, 127))\n",
        "for ii in range(0,test_size):\n",
        "        signal = test_data[ii, :]\n",
        "        coeff, freq = pywt.cwt(signal, scales, waveletname, 1)\n",
        "        coeff_ = coeff[:,:127]\n",
        "        test_data_cwt[ii, :, :] = coeff_\n",
        "\n",
        "\n",
        "x_test_ab = test_data_cwt"
      ],
      "metadata": {
        "id": "_7LlvVBb7Jll"
      },
      "execution_count": null,
      "outputs": []
    },
    {
      "cell_type": "code",
      "source": [
        "x_test_ab.shape"
      ],
      "metadata": {
        "colab": {
          "base_uri": "https://localhost:8080/"
        },
        "id": "ghSXzGbBAFCZ",
        "outputId": "a898444f-9914-4bac-8d1b-3bc5fbe3e266"
      },
      "execution_count": null,
      "outputs": [
        {
          "output_type": "execute_result",
          "data": {
            "text/plain": [
              "(2671, 127, 127)"
            ]
          },
          "metadata": {},
          "execution_count": 23
        }
      ]
    },
    {
      "cell_type": "code",
      "source": [
        "x_test = x_test_ab.reshape(2671, 127,127,1)\n",
        "x_test.shape"
      ],
      "metadata": {
        "colab": {
          "base_uri": "https://localhost:8080/"
        },
        "id": "7dugE8wV7yGs",
        "outputId": "896e9595-3ff7-42c2-e2e1-771e748bcd11"
      },
      "execution_count": null,
      "outputs": [
        {
          "output_type": "execute_result",
          "data": {
            "text/plain": [
              "(2671, 127, 127, 1)"
            ]
          },
          "metadata": {},
          "execution_count": 24
        }
      ]
    },
    {
      "cell_type": "code",
      "source": [
        "\n",
        "y_train = train_labels.reshape(8263,1)\n",
        "y_test = test_labels.reshape(2671,1)"
      ],
      "metadata": {
        "id": "8HktdqXolFRF"
      },
      "execution_count": null,
      "outputs": []
    },
    {
      "cell_type": "code",
      "source": [
        "x_train.shape, y_train.shape"
      ],
      "metadata": {
        "colab": {
          "base_uri": "https://localhost:8080/"
        },
        "id": "vYtw52kYlN-4",
        "outputId": "8a550897-6e1a-4da6-fc2a-043a7d24e3a7"
      },
      "execution_count": null,
      "outputs": [
        {
          "output_type": "execute_result",
          "data": {
            "text/plain": [
              "((8263, 127, 127, 1), (8263, 1))"
            ]
          },
          "metadata": {},
          "execution_count": 26
        }
      ]
    },
    {
      "cell_type": "code",
      "source": [
        "x_test.shape, y_test.shape"
      ],
      "metadata": {
        "colab": {
          "base_uri": "https://localhost:8080/"
        },
        "id": "kMT0lHtflQAu",
        "outputId": "e33f05f0-c0f4-4a44-fc1d-3d17f2134252"
      },
      "execution_count": null,
      "outputs": [
        {
          "output_type": "execute_result",
          "data": {
            "text/plain": [
              "((2671, 127, 127, 1), (2671, 1))"
            ]
          },
          "metadata": {},
          "execution_count": 27
        }
      ]
    },
    {
      "cell_type": "code",
      "source": [
        "input_shape = (127, 127, 1)\n",
        "batch_size = 16\n",
        "num_classes = 1\n",
        "epochs = 10\n",
        " \n",
        "x_train = x_train.astype('float32')\n",
        "x_test = x_test.astype('float32')\n",
        " \n",
        "#y_train = keras.utils.to_categorical(y_train, num_classes)\n",
        "#y_test = keras.utils.to_categorical(y_test, num_classes)\n",
        " \n",
        " \n",
        "model = Sequential()\n",
        "model.add(Conv2D(32, kernel_size=(3, 3), strides=(1, 1),\n",
        "                 activation='relu',\n",
        "                 input_shape=input_shape))\n",
        "#model.add(Dropout(0.5))\n",
        "model.add(MaxPooling2D(pool_size=(2, 2), strides=(2, 2)))\n",
        "model.add(Conv2D(64, (10, 10), activation='relu'))\n",
        "model.add(MaxPooling2D(pool_size=(2, 2)))\n",
        "model.add(Flatten())\n",
        "model.add(Dense(1000, activation='relu'))\n",
        "#model.add(Dropout(0.5))\n",
        "model.add(Dense(num_classes, activation='sigmoid'))\n",
        "print(model.summary())"
      ],
      "metadata": {
        "colab": {
          "base_uri": "https://localhost:8080/"
        },
        "id": "hpjB4nGueMJk",
        "outputId": "68d31f32-85e3-4ec7-af1b-4d8db3ce6934"
      },
      "execution_count": null,
      "outputs": [
        {
          "output_type": "stream",
          "name": "stdout",
          "text": [
            "Model: \"sequential_1\"\n",
            "_________________________________________________________________\n",
            " Layer (type)                Output Shape              Param #   \n",
            "=================================================================\n",
            " conv2d_2 (Conv2D)           (None, 125, 125, 32)      320       \n",
            "                                                                 \n",
            " max_pooling2d_2 (MaxPooling  (None, 62, 62, 32)       0         \n",
            " 2D)                                                             \n",
            "                                                                 \n",
            " conv2d_3 (Conv2D)           (None, 53, 53, 64)        204864    \n",
            "                                                                 \n",
            " max_pooling2d_3 (MaxPooling  (None, 26, 26, 64)       0         \n",
            " 2D)                                                             \n",
            "                                                                 \n",
            " flatten_1 (Flatten)         (None, 43264)             0         \n",
            "                                                                 \n",
            " dense_2 (Dense)             (None, 1000)              43265000  \n",
            "                                                                 \n",
            " dense_3 (Dense)             (None, 1)                 1001      \n",
            "                                                                 \n",
            "=================================================================\n",
            "Total params: 43,471,185\n",
            "Trainable params: 43,471,185\n",
            "Non-trainable params: 0\n",
            "_________________________________________________________________\n",
            "None\n"
          ]
        }
      ]
    },
    {
      "cell_type": "code",
      "source": [
        "\n",
        "input_shape = (127, 127, 1)\n",
        "batch_size = 64\n",
        "num_classes = 1\n",
        "epochs = 10\n",
        " \n",
        " \n",
        "model = Sequential()\n",
        "model.add(Conv2D(16, kernel_size=(3, 3), strides=(1, 1),\n",
        "                 activation='relu',\n",
        "                 input_shape=input_shape))\n",
        "model.add(Dropout(0.8))\n",
        "model.add(MaxPooling2D(pool_size=(2, 2), strides=(2, 2)))\n",
        "model.add(Conv2D(32, (3, 3), activation='relu'))\n",
        "model.add(Dropout(0.8))\n",
        "model.add(MaxPooling2D(pool_size=(2, 2)))\n",
        "model.add(Flatten())\n",
        "model.add(Dense(64, activation='relu'))\n",
        "model.add(Dense(num_classes, activation='sigmoid'))\n",
        " \n",
        "model.compile(loss='binary_crossentropy',\n",
        "              optimizer='adam',\n",
        "              metrics=['accuracy'])\n",
        " \n",
        " \n",
        "history = model.fit(x_train, y_train,\n",
        "          batch_size=batch_size,\n",
        "          epochs=epochs,\n",
        "          verbose=1,\n",
        "          validation_data=(x_test, y_test))\n",
        " \n",
        "train_score = model.evaluate(x_train, y_train, verbose=0)\n",
        "print('Train loss: {}, Train accuracy: {}'.format(train_score[0], train_score[1]))\n",
        "test_score = model.evaluate(x_test, y_test, verbose=0)\n",
        "print('Test loss: {}, Test accuracy: {}'.format(test_score[0], test_score[1]))"
      ],
      "metadata": {
        "id": "2KzcrP2okNfR",
        "colab": {
          "base_uri": "https://localhost:8080/"
        },
        "outputId": "eb6a677e-6a01-4898-c483-155864d4134e"
      },
      "execution_count": null,
      "outputs": [
        {
          "output_type": "stream",
          "name": "stdout",
          "text": [
            "Epoch 1/10\n",
            "130/130 [==============================] - 3s 20ms/step - loss: 1.7747 - accuracy: 0.6696 - val_loss: 0.6776 - val_accuracy: 0.6724\n",
            "Epoch 2/10\n",
            "130/130 [==============================] - 2s 17ms/step - loss: 0.6667 - accuracy: 0.6939 - val_loss: 0.6631 - val_accuracy: 0.6724\n",
            "Epoch 3/10\n",
            "130/130 [==============================] - 2s 18ms/step - loss: 0.6523 - accuracy: 0.6939 - val_loss: 0.6526 - val_accuracy: 0.6724\n",
            "Epoch 4/10\n",
            "130/130 [==============================] - 3s 20ms/step - loss: 0.6413 - accuracy: 0.6939 - val_loss: 0.6450 - val_accuracy: 0.6724\n",
            "Epoch 5/10\n",
            "130/130 [==============================] - 2s 19ms/step - loss: 0.6333 - accuracy: 0.6939 - val_loss: 0.6399 - val_accuracy: 0.6724\n",
            "Epoch 6/10\n",
            "130/130 [==============================] - 2s 17ms/step - loss: 0.6275 - accuracy: 0.6939 - val_loss: 0.6365 - val_accuracy: 0.6724\n",
            "Epoch 7/10\n",
            "130/130 [==============================] - 2s 19ms/step - loss: 0.6234 - accuracy: 0.6939 - val_loss: 0.6344 - val_accuracy: 0.6724\n",
            "Epoch 8/10\n",
            "130/130 [==============================] - 3s 19ms/step - loss: 0.6206 - accuracy: 0.6939 - val_loss: 0.6332 - val_accuracy: 0.6724\n",
            "Epoch 9/10\n",
            "130/130 [==============================] - 2s 17ms/step - loss: 0.6188 - accuracy: 0.6939 - val_loss: 0.6326 - val_accuracy: 0.6724\n",
            "Epoch 10/10\n",
            "130/130 [==============================] - 2s 17ms/step - loss: 0.6177 - accuracy: 0.6939 - val_loss: 0.6325 - val_accuracy: 0.6724\n",
            "Train loss: 0.6172233819961548, Train accuracy: 0.693936824798584\n",
            "Test loss: 0.6324734091758728, Test accuracy: 0.672407329082489\n"
          ]
        }
      ]
    },
    {
      "cell_type": "code",
      "source": [
        "print(history.history.keys())"
      ],
      "metadata": {
        "colab": {
          "base_uri": "https://localhost:8080/"
        },
        "id": "i7rP_aJiw4Zm",
        "outputId": "50ceeb8d-a615-4915-a72c-b30f21bf97cd"
      },
      "execution_count": null,
      "outputs": [
        {
          "output_type": "stream",
          "name": "stdout",
          "text": [
            "dict_keys(['loss', 'accuracy', 'val_loss', 'val_accuracy'])\n"
          ]
        }
      ]
    },
    {
      "cell_type": "code",
      "source": [
        "# summarize history for accuracy\n",
        "plt.plot(history.history['accuracy'])\n",
        "plt.plot(history.history['val_accuracy'])\n",
        "plt.title('model accuracy')\n",
        "plt.ylabel('accuracy')\n",
        "plt.xlabel('epoch')\n",
        "plt.legend(['train', 'test'], loc='upper left')\n",
        "plt.show()"
      ],
      "metadata": {
        "colab": {
          "base_uri": "https://localhost:8080/",
          "height": 295
        },
        "id": "pjU9Pq3dxJ_A",
        "outputId": "df0f2634-1513-41a6-e4af-ee8bde1ab78c"
      },
      "execution_count": null,
      "outputs": [
        {
          "output_type": "display_data",
          "data": {
            "text/plain": [
              "<Figure size 432x288 with 1 Axes>"
            ],
            "image/png": "[encoded data removed]"
          },
          "metadata": {
            "needs_background": "light"
          }
        }
      ]
    },
    {
      "cell_type": "code",
      "source": [
        "# summarize history for loss\n",
        "plt.plot(history.history['loss'])\n",
        "plt.plot(history.history['val_loss'])\n",
        "plt.title('model loss')\n",
        "plt.ylabel('loss')\n",
        "plt.xlabel('epoch')\n",
        "plt.legend(['train', 'test'], loc='upper left')\n",
        "plt.show()"
      ],
      "metadata": {
        "colab": {
          "base_uri": "https://localhost:8080/",
          "height": 295
        },
        "id": "aYPkwSH1xOJq",
        "outputId": "3fc7e4da-f19b-45c7-e80d-b344587d2a29"
      },
      "execution_count": null,
      "outputs": [
        {
          "output_type": "display_data",
          "data": {
            "text/plain": [
              "<Figure size 432x288 with 1 Axes>"
            ],
            "image/png": "[encoded data removed]"
          },
          "metadata": {
            "needs_background": "light"
          }
        }
      ]
    },
    {
      "cell_type": "code",
      "source": [
        "\n",
        "# demonstration of calculating metrics for a neural network model using sklearn\n",
        "from sklearn.datasets import make_circles\n",
        "from sklearn.metrics import accuracy_score\n",
        "from sklearn.metrics import precision_score\n",
        "from sklearn.metrics import recall_score\n",
        "from sklearn.metrics import f1_score\n",
        "from sklearn.metrics import cohen_kappa_score\n",
        "from sklearn.metrics import roc_auc_score\n",
        "from sklearn.metrics import confusion_matrix\n",
        "from keras.models import Sequential\n",
        "from keras.layers import Dense"
      ],
      "metadata": {
        "id": "g2aPHmntWVLx"
      },
      "execution_count": null,
      "outputs": []
    },
    {
      "cell_type": "code",
      "source": [
        "\n",
        "# predict probabilities for test set\n",
        "yhat_probs = model.predict(x_test, verbose=0)\n",
        "# predict crisp classes for test set\n",
        "yhat_classes = (model.predict(x_test) > 0.5).astype(\"int32\")"
      ],
      "metadata": {
        "id": "tmvu2CHoWU-7"
      },
      "execution_count": null,
      "outputs": []
    },
    {
      "cell_type": "code",
      "source": [
        "# accuracy: (tp + tn) / (p + n)\n",
        "accuracy = accuracy_score(y_test, yhat_classes)\n",
        "print('Accuracy: %f' % accuracy)\n",
        "# precision tp / (tp + fp)\n",
        "precision = precision_score(y_test, yhat_classes)\n",
        "print('Precision: %f' % precision)\n",
        "# recall: tp / (tp + fn)\n",
        "recall = recall_score(y_test, yhat_classes)\n",
        "print('Recall: %f' % recall)\n",
        "# f1: 2 tp / (2 tp + fp + fn)\n",
        "f1 = f1_score(y_test, yhat_classes)\n",
        "print('F1 score: %f' % f1)"
      ],
      "metadata": {
        "colab": {
          "base_uri": "https://localhost:8080/"
        },
        "id": "JX0OeCrpXrsx",
        "outputId": "24b3d4a4-54ba-4bdf-97ac-c2b7bfed77f5"
      },
      "execution_count": null,
      "outputs": [
        {
          "output_type": "stream",
          "name": "stdout",
          "text": [
            "Accuracy: 0.698989\n",
            "Precision: 0.581609\n",
            "Recall: 0.289143\n",
            "F1 score: 0.386260\n"
          ]
        }
      ]
    },
    {
      "cell_type": "code",
      "source": [
        "# kappa\n",
        "kappa = cohen_kappa_score(y_test, yhat_classes)\n",
        "print('Cohens kappa: %f' % kappa)\n",
        "# ROC AUC\n",
        "auc = roc_auc_score(y_test, yhat_probs)\n",
        "print('ROC AUC: %f' % auc)\n",
        "# confusion matrix\n",
        "matrix = confusion_matrix(y_test, yhat_classes)\n",
        "print(matrix)"
      ],
      "metadata": {
        "colab": {
          "base_uri": "https://localhost:8080/"
        },
        "id": "JQ1pnLSQX2Qd",
        "outputId": "080a2292-5b8f-430d-d8b8-f79af37fd770"
      },
      "execution_count": null,
      "outputs": [
        {
          "output_type": "stream",
          "name": "stdout",
          "text": [
            "Cohens kappa: 0.215605\n",
            "ROC AUC: 0.690560\n",
            "[[1614  182]\n",
            " [ 622  253]]\n"
          ]
        }
      ]
    },
    {
      "cell_type": "code",
      "source": [
        "cm_display = metrics.ConfusionMatrixDisplay(confusion_matrix = matrix, display_labels = [False, True])\n",
        "\n",
        "cm_display.plot()\n",
        "plt.show()"
      ],
      "metadata": {
        "id": "3ijruFJGvbQd"
      },
      "execution_count": null,
      "outputs": []
    }
  ]
}