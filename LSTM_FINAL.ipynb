{
  "nbformat": 4,
  "nbformat_minor": 0,
  "metadata": {
    "colab": {
      "provenance": []
    },
    "kernelspec": {
      "name": "python3",
      "display_name": "Python 3"
    },
    "language_info": {
      "name": "python"
    },
    "accelerator": "GPU",
    "gpuClass": "standard"
  },
  "cells": [
    {
      "cell_type": "code",
      "execution_count": null,
      "metadata": {
        "id": "nITSmGV9q0bH"
      },
      "outputs": [],
      "source": [
        "import pandas as pd\n",
        "import numpy as np\n",
        "import matplotlib.pyplot as plt\n",
        "from os import listdir\n",
        "import os\n",
        "from google.colab import files\n",
        "import pywt\n"
      ]
    },
    {
      "cell_type": "code",
      "source": [
        "from google.colab import drive\n",
        "drive.mount('/content/gdrive')"
      ],
      "metadata": {
        "colab": {
          "base_uri": "https://localhost:8080/"
        },
        "id": "X0pcaD1lq-1s",
        "outputId": "3f0588dc-a229-4eac-ff7f-9d70b20e4e8b"
      },
      "execution_count": null,
      "outputs": [
        {
          "output_type": "stream",
          "name": "stdout",
          "text": [
            "Mounted at /content/gdrive\n"
          ]
        }
      ]
    },
    {
      "cell_type": "code",
      "source": [
        "#df = pd.read_csv('/content/gdrive/MyDrive/Colab Notebooks/full_df_samp.csv')"
      ],
      "metadata": {
        "id": "ZSTDW8G4rDRQ"
      },
      "execution_count": null,
      "outputs": []
    },
    {
      "cell_type": "code",
      "source": [
        "train = pd.read_csv('/content/gdrive/MyDrive/Colab Notebooks/full_df_train.csv')\n",
        "test = pd.read_csv('/content/gdrive/MyDrive/Colab Notebooks/full_df_test.csv')"
      ],
      "metadata": {
        "id": "N-hX-lRCT4wF"
      },
      "execution_count": null,
      "outputs": []
    },
    {
      "cell_type": "code",
      "source": [
        "train.shape, test.shape"
      ],
      "metadata": {
        "colab": {
          "base_uri": "https://localhost:8080/"
        },
        "id": "AB-HJYWdVbti",
        "outputId": "61bd388a-c8b4-4a2a-ac04-97b621d33ded"
      },
      "execution_count": null,
      "outputs": [
        {
          "output_type": "execute_result",
          "data": {
            "text/plain": [
              "((79069, 722), (30272, 722))"
            ]
          },
          "metadata": {},
          "execution_count": 4
        }
      ]
    },
    {
      "cell_type": "code",
      "source": [
        "#df.shape"
      ],
      "metadata": {
        "colab": {
          "base_uri": "https://localhost:8080/"
        },
        "id": "mGj8FWjWrJ6G",
        "outputId": "f2fd4140-ce97-417e-c44d-f0d70ebbb511"
      },
      "execution_count": null,
      "outputs": [
        {
          "output_type": "execute_result",
          "data": {
            "text/plain": [
              "(11000, 722)"
            ]
          },
          "metadata": {},
          "execution_count": 5
        }
      ]
    },
    {
      "cell_type": "code",
      "source": [
        "#df = df.drop(['Unnamed: 0'], axis=1)\n",
        "train = train.drop(['Unnamed: 0'], axis=1)\n",
        "test = test.drop(['Unnamed: 0'], axis=1)"
      ],
      "metadata": {
        "id": "_ACmnc3crPI-"
      },
      "execution_count": null,
      "outputs": []
    },
    {
      "cell_type": "code",
      "source": [
        "#df.shape\n",
        "print(train.shape, test.shape)"
      ],
      "metadata": {
        "colab": {
          "base_uri": "https://localhost:8080/"
        },
        "id": "Mmpl0JGgrQc_",
        "outputId": "ba8e87c7-72b7-47c5-ea15-642a2209d49c"
      },
      "execution_count": null,
      "outputs": [
        {
          "output_type": "stream",
          "name": "stdout",
          "text": [
            "(79069, 721) (30272, 721)\n"
          ]
        }
      ]
    },
    {
      "cell_type": "code",
      "source": [
        "# The first element contains the labels\n",
        "#Y_all = df.values[:, 0]\n",
        "\n",
        "# The other data points are the electrocadriogram data\n",
        "#X_all =  df.values[:, 1:]\n",
        "\n",
        "# The first element contains the labels\n",
        "y_train = train.values[:, 0]\n",
        "y_test = test.values[:, 0]\n",
        "\n",
        "# The other data points are the electrocadriogram data\n",
        "X_train =  train.values[:, 1:]\n",
        "X_test =  test.values[:, 1:]\n",
        "\n",
        "print(X_train.shape, y_train.shape, X_test.shape, y_test.shape)"
      ],
      "metadata": {
        "id": "MxF2JmB_rS-L",
        "colab": {
          "base_uri": "https://localhost:8080/"
        },
        "outputId": "7956a851-8b0f-450c-8759-29d07392b10c"
      },
      "execution_count": null,
      "outputs": [
        {
          "output_type": "stream",
          "name": "stdout",
          "text": [
            "(79069, 720) (79069,) (30272, 720) (30272,)\n"
          ]
        }
      ]
    },
    {
      "cell_type": "code",
      "source": [
        "from sklearn.model_selection import train_test_split\n",
        "train_data1, train_data2, train_labels1, train_labels2 = train_test_split(\n",
        "    X_train, y_train, test_size=0.5, random_state=21)"
      ],
      "metadata": {
        "id": "AwBIBY-CrVhe"
      },
      "execution_count": null,
      "outputs": []
    },
    {
      "cell_type": "code",
      "source": [
        "from sklearn.model_selection import train_test_split\n",
        "test_data1, test_data2, test_labels1, test_labels2 = train_test_split(\n",
        "    X_test, y_test, test_size=0.5, random_state=21)"
      ],
      "metadata": {
        "id": "d39Cbj1vVQfB"
      },
      "execution_count": null,
      "outputs": []
    },
    {
      "cell_type": "code",
      "source": [
        "#train_data.shape, train_labels.shape, test_data.shape, test_labels.shape\n",
        "train_data1.shape, train_labels1.shape, test_data1.shape, test_labels1.shape"
      ],
      "metadata": {
        "colab": {
          "base_uri": "https://localhost:8080/"
        },
        "id": "X6dYYOSKrZHZ",
        "outputId": "145fe4cc-91e1-489d-f9c5-093ccd819c8e"
      },
      "execution_count": null,
      "outputs": [
        {
          "output_type": "execute_result",
          "data": {
            "text/plain": [
              "((39534, 720), (39534,), (15136, 720), (15136,))"
            ]
          },
          "metadata": {},
          "execution_count": 38
        }
      ]
    },
    {
      "cell_type": "code",
      "source": [
        "train_data_ab = train_data1.reshape(39534, 720,1)\n",
        "test_data_ab = test_data1.reshape(15136,720,1)\n",
        "train_data_ab.shape, test_data_ab.shape"
      ],
      "metadata": {
        "colab": {
          "base_uri": "https://localhost:8080/"
        },
        "id": "ZmCNfyfIrwS4",
        "outputId": "2a2f5ab8-c3ff-48c2-ef27-1d75e29826d0"
      },
      "execution_count": null,
      "outputs": [
        {
          "output_type": "execute_result",
          "data": {
            "text/plain": [
              "((39534, 720, 1), (15136, 720, 1))"
            ]
          },
          "metadata": {},
          "execution_count": 39
        }
      ]
    },
    {
      "cell_type": "code",
      "source": [
        "#test_data_ab.shape"
      ],
      "metadata": {
        "id": "9o6F4ranrxTk"
      },
      "execution_count": null,
      "outputs": []
    },
    {
      "cell_type": "code",
      "source": [
        "#train_labels_ab = train_labels.reshape(8800,1)\n",
        "#test_labels_ab = test_labels.reshape(2200,1)\n",
        "\n",
        "#train_labels_ab.shape, test_labels_ab.shape\n",
        "\n",
        "train_labels_ab = train_labels1.reshape(39534,1)\n",
        "test_labels_ab = test_labels1.reshape(15136,1)\n",
        "\n",
        "train_labels_ab.shape, test_labels_ab.shape"
      ],
      "metadata": {
        "colab": {
          "base_uri": "https://localhost:8080/"
        },
        "id": "xLhDHK3Hr4wG",
        "outputId": "22a76f3f-ac47-4eb2-9761-f1d0bea04011"
      },
      "execution_count": null,
      "outputs": [
        {
          "output_type": "execute_result",
          "data": {
            "text/plain": [
              "((39534, 1), (15136, 1))"
            ]
          },
          "metadata": {},
          "execution_count": 40
        }
      ]
    },
    {
      "cell_type": "code",
      "source": [
        "pd.DataFrame(test_labels_ab).value_counts()"
      ],
      "metadata": {
        "colab": {
          "base_uri": "https://localhost:8080/"
        },
        "id": "cql2agHa2Qb8",
        "outputId": "17da52cc-a45c-41ac-b20d-abe5260a3b06"
      },
      "execution_count": null,
      "outputs": [
        {
          "output_type": "execute_result",
          "data": {
            "text/plain": [
              "0.0    12249\n",
              "1.0     2887\n",
              "dtype: int64"
            ]
          },
          "metadata": {},
          "execution_count": 41
        }
      ]
    },
    {
      "cell_type": "code",
      "source": [
        "#n_timesteps, n_features, n_outputs = train_data_ab.shape[1], train_data_ab.shape[2], train_labels_ab.shape[1]\n",
        "#n_timesteps, n_features, n_outputs\n",
        "\n",
        "n_timesteps, n_features, n_outputs = train_data_ab.shape[1], train_data_ab.shape[2], train_labels_ab.shape[1]\n",
        "n_timesteps, n_features, n_outputs"
      ],
      "metadata": {
        "colab": {
          "base_uri": "https://localhost:8080/"
        },
        "id": "RGF0Wt6mr8Cr",
        "outputId": "238f49bf-b718-4d73-fc14-90fda1eb3c42"
      },
      "execution_count": null,
      "outputs": [
        {
          "output_type": "execute_result",
          "data": {
            "text/plain": [
              "(720, 1, 1)"
            ]
          },
          "metadata": {},
          "execution_count": 42
        }
      ]
    },
    {
      "cell_type": "code",
      "source": [
        "import keras\n",
        "import keras.utils\n",
        "from keras import utils as np_utils\n",
        "from keras.utils.np_utils import to_categorical"
      ],
      "metadata": {
        "id": "3cYu7kXOr-Wv"
      },
      "execution_count": null,
      "outputs": []
    },
    {
      "cell_type": "code",
      "source": [
        "# lstm model\n",
        "from numpy import mean\n",
        "from numpy import std\n",
        "from numpy import dstack\n",
        "from pandas import read_csv\n",
        "from keras.models import Sequential\n",
        "from keras.layers import Dense\n",
        "from keras.layers import Flatten\n",
        "from keras.layers import Dropout\n",
        "from keras.layers import LSTM\n",
        "from keras.layers import TimeDistributed\n",
        "from keras.layers.convolutional import Conv1D\n",
        "from keras.layers.convolutional import MaxPooling1D\n",
        "from matplotlib import pyplot\n",
        "from keras.callbacks import History "
      ],
      "metadata": {
        "id": "7teoeGIxsAZT"
      },
      "execution_count": null,
      "outputs": []
    },
    {
      "cell_type": "code",
      "source": [
        "from keras.layers import Bidirectional, LSTM"
      ],
      "metadata": {
        "id": "_S_8kGyhzeiu"
      },
      "execution_count": null,
      "outputs": []
    },
    {
      "cell_type": "code",
      "source": [
        "model = Sequential()\n",
        "model.add(Bidirectional(LSTM(64, input_shape=(train_data_ab.shape[1], train_data_ab.shape[2]))))\n",
        "model.add(Dropout(rate = 0.25))\n",
        "model.add(Dense(1, activation = 'sigmoid'))\n",
        "model.compile(\n",
        "                loss = 'binary_crossentropy',\n",
        "                optimizer = 'adam',\n",
        "                metrics = ['accuracy'])"
      ],
      "metadata": {
        "id": "_7u-VAV_ztfp"
      },
      "execution_count": null,
      "outputs": []
    },
    {
      "cell_type": "code",
      "source": [
        "history = model.fit(train_data_ab, train_labels_ab, batch_size = 32, epochs=50, verbose = 1, validation_data=(test_data_ab, test_labels_ab)) \n",
        "#history = model.fit(train_data_ab, train_labels_ab, batch_size = 32, epochs=10, verbose = 1, validation_split = 0.1) \n",
        "train_score = model.evaluate(train_data_ab, train_labels_ab, verbose=0)\n",
        "print('Train loss: {}, Train accuracy: {}'.format(train_score[0], train_score[1]))\n",
        "test_score = model.evaluate(test_data_ab, test_labels_ab, verbose=0)\n",
        "print('Test loss: {}, Test accuracy: {}'.format(test_score[0], test_score[1]))"
      ],
      "metadata": {
        "colab": {
          "base_uri": "https://localhost:8080/"
        },
        "id": "9pv2o77C1DD6",
        "outputId": "967f0c1d-dd8b-4000-cb59-d7f48800d74c"
      },
      "execution_count": null,
      "outputs": [
        {
          "output_type": "stream",
          "name": "stdout",
          "text": [
            "Epoch 1/50\n",
            "1236/1236 [==============================] - 71s 57ms/step - loss: 0.6357 - accuracy: 0.6577 - val_loss: 0.5424 - val_accuracy: 0.7737\n",
            "Epoch 2/50\n",
            "1236/1236 [==============================] - 69s 56ms/step - loss: 0.6298 - accuracy: 0.6607 - val_loss: 0.5375 - val_accuracy: 0.7981\n",
            "Epoch 3/50\n",
            "1236/1236 [==============================] - 69s 56ms/step - loss: 0.6358 - accuracy: 0.6557 - val_loss: 0.5373 - val_accuracy: 0.8001\n",
            "Epoch 4/50\n",
            "1236/1236 [==============================] - 62s 51ms/step - loss: 0.6259 - accuracy: 0.6744 - val_loss: 0.5254 - val_accuracy: 0.7856\n",
            "Epoch 5/50\n",
            "1236/1236 [==============================] - 62s 50ms/step - loss: 0.6412 - accuracy: 0.6450 - val_loss: 0.5516 - val_accuracy: 0.8088\n",
            "Epoch 6/50\n",
            "1236/1236 [==============================] - 60s 49ms/step - loss: 0.6485 - accuracy: 0.6383 - val_loss: 0.5477 - val_accuracy: 0.8079\n",
            "Epoch 7/50\n",
            "1236/1236 [==============================] - 60s 49ms/step - loss: 0.6447 - accuracy: 0.6462 - val_loss: 0.5441 - val_accuracy: 0.8070\n",
            "Epoch 8/50\n",
            "1236/1236 [==============================] - 60s 48ms/step - loss: 0.6427 - accuracy: 0.6485 - val_loss: 0.5644 - val_accuracy: 0.7960\n",
            "Epoch 9/50\n",
            "1236/1236 [==============================] - 61s 49ms/step - loss: 0.6385 - accuracy: 0.6536 - val_loss: 0.5567 - val_accuracy: 0.7912\n",
            "Epoch 10/50\n",
            "1236/1236 [==============================] - 59s 48ms/step - loss: 0.6334 - accuracy: 0.6594 - val_loss: 0.5773 - val_accuracy: 0.7831\n",
            "Epoch 11/50\n",
            "1236/1236 [==============================] - 60s 49ms/step - loss: 0.6276 - accuracy: 0.6658 - val_loss: 0.5836 - val_accuracy: 0.7733\n",
            "Epoch 12/50\n",
            "1236/1236 [==============================] - 59s 48ms/step - loss: 0.6174 - accuracy: 0.6736 - val_loss: 0.5569 - val_accuracy: 0.7746\n",
            "Epoch 13/50\n",
            "1236/1236 [==============================] - 69s 56ms/step - loss: 0.6050 - accuracy: 0.6912 - val_loss: 0.5306 - val_accuracy: 0.7855\n",
            "Epoch 14/50\n",
            "1236/1236 [==============================] - 63s 51ms/step - loss: 0.6157 - accuracy: 0.6843 - val_loss: 0.5795 - val_accuracy: 0.7727\n",
            "Epoch 15/50\n",
            "1236/1236 [==============================] - 60s 49ms/step - loss: 0.6146 - accuracy: 0.6817 - val_loss: 0.5195 - val_accuracy: 0.8005\n",
            "Epoch 16/50\n",
            "1236/1236 [==============================] - 61s 49ms/step - loss: 0.5886 - accuracy: 0.7002 - val_loss: 0.5360 - val_accuracy: 0.7842\n",
            "Epoch 17/50\n",
            "1236/1236 [==============================] - 60s 49ms/step - loss: 0.5852 - accuracy: 0.7020 - val_loss: 0.5074 - val_accuracy: 0.8171\n",
            "Epoch 18/50\n",
            "1236/1236 [==============================] - 61s 49ms/step - loss: 0.5890 - accuracy: 0.6979 - val_loss: 0.5639 - val_accuracy: 0.8004\n",
            "Epoch 19/50\n",
            "1236/1236 [==============================] - 60s 48ms/step - loss: 0.5815 - accuracy: 0.7054 - val_loss: 0.5643 - val_accuracy: 0.7927\n",
            "Epoch 20/50\n",
            "1236/1236 [==============================] - 61s 49ms/step - loss: 0.6166 - accuracy: 0.6759 - val_loss: 0.5420 - val_accuracy: 0.8086\n",
            "Epoch 21/50\n",
            "1236/1236 [==============================] - 61s 50ms/step - loss: 0.6401 - accuracy: 0.6500 - val_loss: 0.5673 - val_accuracy: 0.7883\n",
            "Epoch 22/50\n",
            "1236/1236 [==============================] - 63s 51ms/step - loss: 0.6378 - accuracy: 0.6500 - val_loss: 0.5440 - val_accuracy: 0.7910\n",
            "Epoch 23/50\n",
            "1236/1236 [==============================] - 64s 52ms/step - loss: 0.6257 - accuracy: 0.6738 - val_loss: 0.5383 - val_accuracy: 0.7888\n",
            "Epoch 24/50\n",
            "1236/1236 [==============================] - 60s 49ms/step - loss: 0.6290 - accuracy: 0.6714 - val_loss: 0.5515 - val_accuracy: 0.7887\n",
            "Epoch 25/50\n",
            "1236/1236 [==============================] - 61s 50ms/step - loss: 0.6019 - accuracy: 0.6956 - val_loss: 0.5430 - val_accuracy: 0.7945\n",
            "Epoch 26/50\n",
            "1236/1236 [==============================] - 60s 49ms/step - loss: 0.5853 - accuracy: 0.7050 - val_loss: 0.5293 - val_accuracy: 0.8256\n",
            "Epoch 27/50\n",
            "1236/1236 [==============================] - 61s 49ms/step - loss: 0.6606 - accuracy: 0.6318 - val_loss: 0.5898 - val_accuracy: 0.7853\n",
            "Epoch 28/50\n",
            "1236/1236 [==============================] - 60s 49ms/step - loss: 0.6464 - accuracy: 0.6517 - val_loss: 0.5625 - val_accuracy: 0.7871\n",
            "Epoch 29/50\n",
            "1236/1236 [==============================] - 61s 50ms/step - loss: 0.6374 - accuracy: 0.6594 - val_loss: 0.6103 - val_accuracy: 0.7333\n",
            "Epoch 30/50\n",
            "1236/1236 [==============================] - 61s 49ms/step - loss: 0.6162 - accuracy: 0.6756 - val_loss: 0.5366 - val_accuracy: 0.7941\n",
            "Epoch 31/50\n",
            "1236/1236 [==============================] - 61s 50ms/step - loss: 0.5833 - accuracy: 0.6996 - val_loss: 0.4127 - val_accuracy: 0.8201\n",
            "Epoch 32/50\n",
            "1236/1236 [==============================] - 60s 49ms/step - loss: 0.6158 - accuracy: 0.6710 - val_loss: 0.4765 - val_accuracy: 0.7922\n",
            "Epoch 33/50\n",
            "1236/1236 [==============================] - 61s 49ms/step - loss: 0.5794 - accuracy: 0.7101 - val_loss: 0.5310 - val_accuracy: 0.7767\n",
            "Epoch 34/50\n",
            "1236/1236 [==============================] - 61s 50ms/step - loss: 0.6454 - accuracy: 0.6514 - val_loss: 0.5158 - val_accuracy: 0.8093\n",
            "Epoch 35/50\n",
            "1236/1236 [==============================] - 60s 49ms/step - loss: 0.6435 - accuracy: 0.6483 - val_loss: 0.5317 - val_accuracy: 0.7994\n",
            "Epoch 36/50\n",
            "1236/1236 [==============================] - 61s 50ms/step - loss: 0.6000 - accuracy: 0.6952 - val_loss: 0.5194 - val_accuracy: 0.8065\n",
            "Epoch 37/50\n",
            "1236/1236 [==============================] - 60s 49ms/step - loss: 0.6453 - accuracy: 0.6463 - val_loss: 0.5675 - val_accuracy: 0.8092\n",
            "Epoch 38/50\n",
            "1236/1236 [==============================] - 61s 49ms/step - loss: 0.5901 - accuracy: 0.7026 - val_loss: 0.5518 - val_accuracy: 0.7902\n",
            "Epoch 39/50\n",
            "1236/1236 [==============================] - 60s 48ms/step - loss: 0.5457 - accuracy: 0.7403 - val_loss: 0.5208 - val_accuracy: 0.7904\n",
            "Epoch 40/50\n",
            "1236/1236 [==============================] - 60s 49ms/step - loss: 0.5206 - accuracy: 0.7672 - val_loss: 0.4939 - val_accuracy: 0.8046\n",
            "Epoch 41/50\n",
            "1236/1236 [==============================] - 60s 49ms/step - loss: 0.5225 - accuracy: 0.7633 - val_loss: 0.4868 - val_accuracy: 0.8070\n",
            "Epoch 42/50\n",
            "1236/1236 [==============================] - 60s 49ms/step - loss: 0.5008 - accuracy: 0.7754 - val_loss: 2.1744 - val_accuracy: 0.2940\n",
            "Epoch 43/50\n",
            "1236/1236 [==============================] - 61s 49ms/step - loss: 0.6716 - accuracy: 0.6303 - val_loss: 0.5586 - val_accuracy: 0.7952\n",
            "Epoch 44/50\n",
            "1236/1236 [==============================] - 61s 49ms/step - loss: 0.6416 - accuracy: 0.6513 - val_loss: 0.5724 - val_accuracy: 0.7445\n",
            "Epoch 45/50\n",
            "1236/1236 [==============================] - 61s 50ms/step - loss: 0.6321 - accuracy: 0.6647 - val_loss: 0.5746 - val_accuracy: 0.7726\n",
            "Epoch 46/50\n",
            "1236/1236 [==============================] - 60s 49ms/step - loss: 0.6125 - accuracy: 0.6811 - val_loss: 0.5042 - val_accuracy: 0.7939\n",
            "Epoch 47/50\n",
            "1236/1236 [==============================] - 61s 50ms/step - loss: 0.5919 - accuracy: 0.7133 - val_loss: 0.4682 - val_accuracy: 0.7814\n",
            "Epoch 48/50\n",
            "1236/1236 [==============================] - 61s 49ms/step - loss: 0.6090 - accuracy: 0.6875 - val_loss: 0.5311 - val_accuracy: 0.7778\n",
            "Epoch 49/50\n",
            "1236/1236 [==============================] - 61s 50ms/step - loss: 0.5976 - accuracy: 0.6934 - val_loss: 0.5031 - val_accuracy: 0.8000\n",
            "Epoch 50/50\n",
            "1236/1236 [==============================] - 61s 49ms/step - loss: 0.5778 - accuracy: 0.7048 - val_loss: 0.5026 - val_accuracy: 0.8085\n",
            "Train loss: 0.5619034767150879, Train accuracy: 0.7149541974067688\n",
            "Test loss: 0.5025576949119568, Test accuracy: 0.8085359334945679\n"
          ]
        }
      ]
    },
    {
      "cell_type": "code",
      "source": [
        "print(history.history.keys())"
      ],
      "metadata": {
        "colab": {
          "base_uri": "https://localhost:8080/"
        },
        "id": "HldL_sy6xI7E",
        "outputId": "fdce32d3-cc77-49ce-8d15-b991a441609b"
      },
      "execution_count": null,
      "outputs": [
        {
          "output_type": "stream",
          "name": "stdout",
          "text": [
            "dict_keys(['loss', 'accuracy', 'val_loss', 'val_accuracy'])\n"
          ]
        }
      ]
    },
    {
      "cell_type": "code",
      "source": [
        "# summarize history for accuracy\n",
        "plt.plot(history.history['accuracy'])\n",
        "plt.plot(history.history['val_accuracy'])\n",
        "plt.title('LSTM - model accuracy')\n",
        "plt.ylabel('accuracy')\n",
        "plt.xlabel('epoch')\n",
        "plt.legend(['train', 'validation'], loc='upper left')\n",
        "plt.show()"
      ],
      "metadata": {
        "colab": {
          "base_uri": "https://localhost:8080/",
          "height": 295
        },
        "id": "mIBxQ0h9xLAT",
        "outputId": "123c8fcf-fc73-4162-c71d-d7addfa77973"
      },
      "execution_count": null,
      "outputs": [
        {
          "output_type": "display_data",
          "data": {
            "text/plain": [
              "<Figure size 432x288 with 1 Axes>"
            ],
            "image/png": "[encoded data removed]"
          },
          "metadata": {
            "needs_background": "light"
          }
        }
      ]
    },
    {
      "cell_type": "code",
      "source": [
        "# summarize history for loss\n",
        "plt.plot(history.history['loss'])\n",
        "plt.plot(history.history['val_loss'])\n",
        "plt.title('LSTM - model loss')\n",
        "plt.ylabel('loss')\n",
        "plt.xlabel('epoch')\n",
        "plt.legend(['train', 'validation'], loc='upper left')\n",
        "plt.show()"
      ],
      "metadata": {
        "colab": {
          "base_uri": "https://localhost:8080/",
          "height": 295
        },
        "id": "jGjN21NfxOKb",
        "outputId": "59548ab4-8ddb-46cd-c481-d0f49b7caa76"
      },
      "execution_count": null,
      "outputs": [
        {
          "output_type": "display_data",
          "data": {
            "text/plain": [
              "<Figure size 432x288 with 1 Axes>"
            ],
            "image/png": "[encoded data removed]"
          },
          "metadata": {
            "needs_background": "light"
          }
        }
      ]
    },
    {
      "cell_type": "code",
      "source": [
        "\n",
        "# demonstration of calculating metrics for a neural network model using sklearn\n",
        "from sklearn.datasets import make_circles\n",
        "from sklearn.metrics import accuracy_score\n",
        "from sklearn.metrics import precision_score\n",
        "from sklearn.metrics import recall_score\n",
        "from sklearn.metrics import f1_score\n",
        "from sklearn.metrics import cohen_kappa_score\n",
        "from sklearn.metrics import roc_auc_score\n",
        "from sklearn.metrics import confusion_matrix\n",
        "from keras.models import Sequential\n",
        "from keras.layers import Dense"
      ],
      "metadata": {
        "id": "twFQUM7PxSFH"
      },
      "execution_count": null,
      "outputs": []
    },
    {
      "cell_type": "code",
      "source": [],
      "metadata": {
        "id": "4j2DCNTL2IQ-"
      },
      "execution_count": null,
      "outputs": []
    },
    {
      "cell_type": "code",
      "source": [
        "\n",
        "# predict probabilities for test set\n",
        "yhat_probs = model.predict(test_data_ab, verbose=0)\n",
        "# predict crisp classes for test set\n",
        "yhat_classes = (model.predict(test_data_ab) > 0.5).astype(\"int32\")"
      ],
      "metadata": {
        "id": "t3IrqaDvxUxZ"
      },
      "execution_count": null,
      "outputs": []
    },
    {
      "cell_type": "code",
      "source": [
        "# accuracy: (tp + tn) / (p + n)\n",
        "accuracy = accuracy_score(test_labels_ab, yhat_classes)\n",
        "print('Accuracy: %f' % accuracy)\n",
        "# precision tp / (tp + fp)\n",
        "precision = precision_score(test_labels_ab, yhat_classes)\n",
        "print('Precision: %f' % precision)\n",
        "# recall: tp / (tp + fn)\n",
        "recall = recall_score(test_labels_ab, yhat_classes)\n",
        "print('Recall: %f' % recall)\n",
        "# f1: 2 tp / (2 tp + fp + fn)\n",
        "f1 = f1_score(test_labels_ab, yhat_classes)\n",
        "print('F1 score: %f' % f1)"
      ],
      "metadata": {
        "colab": {
          "base_uri": "https://localhost:8080/"
        },
        "id": "36E-pUgixeXB",
        "outputId": "29643740-a9a9-4964-aeee-bd24f472acb1"
      },
      "execution_count": null,
      "outputs": [
        {
          "output_type": "stream",
          "name": "stdout",
          "text": [
            "Accuracy: 0.808536\n",
            "Precision: 0.496983\n",
            "Recall: 0.313821\n",
            "F1 score: 0.384713\n"
          ]
        }
      ]
    },
    {
      "cell_type": "code",
      "source": [
        "# kappa\n",
        "kappa = cohen_kappa_score(test_labels_ab, yhat_classes)\n",
        "print('Cohens kappa: %f' % kappa)\n",
        "# ROC AUC\n",
        "auc = roc_auc_score(test_labels_ab, yhat_probs)\n",
        "print('ROC AUC: %f' % auc)\n",
        "# confusion matrix\n",
        "matrix = confusion_matrix(test_labels_ab, yhat_classes)\n",
        "print(matrix)"
      ],
      "metadata": {
        "colab": {
          "base_uri": "https://localhost:8080/"
        },
        "id": "viVfN1HRsrkU",
        "outputId": "83bd70fe-c9f2-4fd8-dd9d-baed2c181578"
      },
      "execution_count": null,
      "outputs": [
        {
          "output_type": "stream",
          "name": "stdout",
          "text": [
            "Cohens kappa: 0.278130\n",
            "ROC AUC: 0.703051\n",
            "[[11332   917]\n",
            " [ 1981   906]]\n"
          ]
        }
      ]
    },
    {
      "cell_type": "code",
      "source": [
        "pd.DataFrame(matrix)"
      ],
      "metadata": {
        "colab": {
          "base_uri": "https://localhost:8080/",
          "height": 112
        },
        "id": "QkH4M5gz24gG",
        "outputId": "5e257f70-57f7-4a87-e1ce-15271f4744e6"
      },
      "execution_count": null,
      "outputs": [
        {
          "output_type": "execute_result",
          "data": {
            "text/plain": [
              "       0    1\n",
              "0  11332  917\n",
              "1   1981  906"
            ],
            "text/html": [
              "\n",
              "  <div id=\"df-543ca7b0-ff41-44da-b747-6efaafffd84e\">\n",
              "    <div class=\"colab-df-container\">\n",
              "      <div>\n",
              "<style scoped>\n",
              "    .dataframe tbody tr th:only-of-type {\n",
              "        vertical-align: middle;\n",
              "    }\n",
              "\n",
              "    .dataframe tbody tr th {\n",
              "        vertical-align: top;\n",
              "    }\n",
              "\n",
              "    .dataframe thead th {\n",
              "        text-align: right;\n",
              "    }\n",
              "</style>\n",
              "<table border=\"1\" class=\"dataframe\">\n",
              "  <thead>\n",
              "    <tr style=\"text-align: right;\">\n",
              "      <th></th>\n",
              "      <th>0</th>\n",
              "      <th>1</th>\n",
              "    </tr>\n",
              "  </thead>\n",
              "  <tbody>\n",
              "    <tr>\n",
              "      <th>0</th>\n",
              "      <td>11332</td>\n",
              "      <td>917</td>\n",
              "    </tr>\n",
              "    <tr>\n",
              "      <th>1</th>\n",
              "      <td>1981</td>\n",
              "      <td>906</td>\n",
              "    </tr>\n",
              "  </tbody>\n",
              "</table>\n",
              "</div>\n",
              "      <button class=\"colab-df-convert\" onclick=\"convertToInteractive('df-543ca7b0-ff41-44da-b747-6efaafffd84e')\"\n",
              "              title=\"Convert this dataframe to an interactive table.\"\n",
              "              style=\"display:none;\">\n",
              "        \n",
              "  <svg xmlns=\"http://www.w3.org/2000/svg\" height=\"24px\"viewBox=\"0 0 24 24\"\n",
              "       width=\"24px\">\n",
              "    <path d=\"M0 0h24v24H0V0z\" fill=\"none\"/>\n",
              "    <path d=\"M18.56 5.44l.94 2.06.94-2.06 2.06-.94-2.06-.94-.94-2.06-.94 2.06-2.06.94zm-11 1L8.5 8.5l.94-2.06 2.06-.94-2.06-.94L8.5 2.5l-.94 2.06-2.06.94zm10 10l.94 2.06.94-2.06 2.06-.94-2.06-.94-.94-2.06-.94 2.06-2.06.94z\"/><path d=\"M17.41 7.96l-1.37-1.37c-.4-.4-.92-.59-1.43-.59-.52 0-1.04.2-1.43.59L10.3 9.45l-7.72 7.72c-.78.78-.78 2.05 0 2.83L4 21.41c.39.39.9.59 1.41.59.51 0 1.02-.2 1.41-.59l7.78-7.78 2.81-2.81c.8-.78.8-2.07 0-2.86zM5.41 20L4 18.59l7.72-7.72 1.47 1.35L5.41 20z\"/>\n",
              "  </svg>\n",
              "      </button>\n",
              "      \n",
              "  <style>\n",
              "    .colab-df-container {\n",
              "      display:flex;\n",
              "      flex-wrap:wrap;\n",
              "      gap: 12px;\n",
              "    }\n",
              "\n",
              "    .colab-df-convert {\n",
              "      background-color: #E8F0FE;\n",
              "      border: none;\n",
              "      border-radius: 50%;\n",
              "      cursor: pointer;\n",
              "      display: none;\n",
              "      fill: #1967D2;\n",
              "      height: 32px;\n",
              "      padding: 0 0 0 0;\n",
              "      width: 32px;\n",
              "    }\n",
              "\n",
              "    .colab-df-convert:hover {\n",
              "      background-color: #E2EBFA;\n",
              "      box-shadow: 0px 1px 2px rgba(60, 64, 67, 0.3), 0px 1px 3px 1px rgba(60, 64, 67, 0.15);\n",
              "      fill: #174EA6;\n",
              "    }\n",
              "\n",
              "    [theme=dark] .colab-df-convert {\n",
              "      background-color: #3B4455;\n",
              "      fill: #D2E3FC;\n",
              "    }\n",
              "\n",
              "    [theme=dark] .colab-df-convert:hover {\n",
              "      background-color: #434B5C;\n",
              "      box-shadow: 0px 1px 3px 1px rgba(0, 0, 0, 0.15);\n",
              "      filter: drop-shadow(0px 1px 2px rgba(0, 0, 0, 0.3));\n",
              "      fill: #FFFFFF;\n",
              "    }\n",
              "  </style>\n",
              "\n",
              "      <script>\n",
              "        const buttonEl =\n",
              "          document.querySelector('#df-543ca7b0-ff41-44da-b747-6efaafffd84e button.colab-df-convert');\n",
              "        buttonEl.style.display =\n",
              "          google.colab.kernel.accessAllowed ? 'block' : 'none';\n",
              "\n",
              "        async function convertToInteractive(key) {\n",
              "          const element = document.querySelector('#df-543ca7b0-ff41-44da-b747-6efaafffd84e');\n",
              "          const dataTable =\n",
              "            await google.colab.kernel.invokeFunction('convertToInteractive',\n",
              "                                                     [key], {});\n",
              "          if (!dataTable) return;\n",
              "\n",
              "          const docLinkHtml = 'Like what you see? Visit the ' +\n",
              "            '<a target=\"_blank\" href=https://colab.research.google.com/notebooks/data_table.ipynb>data table notebook</a>'\n",
              "            + ' to learn more about interactive tables.';\n",
              "          element.innerHTML = '';\n",
              "          dataTable['output_type'] = 'display_data';\n",
              "          await google.colab.output.renderOutput(dataTable, element);\n",
              "          const docLink = document.createElement('div');\n",
              "          docLink.innerHTML = docLinkHtml;\n",
              "          element.appendChild(docLink);\n",
              "        }\n",
              "      </script>\n",
              "    </div>\n",
              "  </div>\n",
              "  "
            ]
          },
          "metadata": {},
          "execution_count": 59
        }
      ]
    },
    {
      "cell_type": "code",
      "source": [
        "from sklearn import metrics\n",
        "import seaborn as sns\n",
        "\n",
        "matrix = matrix.astype('float') / matrix.sum(axis=1)[:, np.newaxis]\n",
        "cm_display = metrics.ConfusionMatrixDisplay(confusion_matrix = matrix, display_labels = [False, True])\n",
        "\n",
        "cm_display.plot()\n",
        "plt.title(\"LSTM - Confusion Matrix\")\n",
        "plt.show()\n"
      ],
      "metadata": {
        "colab": {
          "base_uri": "https://localhost:8080/",
          "height": 295
        },
        "id": "v6qcg5nOgpNI",
        "outputId": "ce745114-9988-42d3-cd38-8ea3a56b2a5d"
      },
      "execution_count": null,
      "outputs": [
        {
          "output_type": "display_data",
          "data": {
            "text/plain": [
              "<Figure size 432x288 with 2 Axes>"
            ],
            "image/png": "[encoded data removed]"
          },
          "metadata": {
            "needs_background": "light"
          }
        }
      ]
    },
    {
      "cell_type": "code",
      "source": [
        "print(model.summary())"
      ],
      "metadata": {
        "colab": {
          "base_uri": "https://localhost:8080/"
        },
        "id": "g0dF1wuEofYR",
        "outputId": "c63eb26e-6c69-419c-8734-20fbfb34427a"
      },
      "execution_count": null,
      "outputs": [
        {
          "output_type": "stream",
          "name": "stdout",
          "text": [
            "Model: \"sequential_2\"\n",
            "_________________________________________________________________\n",
            " Layer (type)                Output Shape              Param #   \n",
            "=================================================================\n",
            " bidirectional_2 (Bidirectio  (None, 128)              33792     \n",
            " nal)                                                            \n",
            "                                                                 \n",
            " dropout_2 (Dropout)         (None, 128)               0         \n",
            "                                                                 \n",
            " dense_2 (Dense)             (None, 1)                 129       \n",
            "                                                                 \n",
            "=================================================================\n",
            "Total params: 33,921\n",
            "Trainable params: 33,921\n",
            "Non-trainable params: 0\n",
            "_________________________________________________________________\n",
            "None\n"
          ]
        }
      ]
    },
    {
      "cell_type": "markdown",
      "source": [
        "### Visual interpretation"
      ],
      "metadata": {
        "id": "Ezz_QU3lANi_"
      }
    },
    {
      "cell_type": "code",
      "source": [
        "# recordings with the highest predicted probabilities\n",
        "highest = np.where(yhat_probs >= np.quantile(yhat_probs, 0.9999))\n",
        "highest"
      ],
      "metadata": {
        "colab": {
          "base_uri": "https://localhost:8080/"
        },
        "id": "KHXEExRY9tYp",
        "outputId": "0093a024-2f4d-4d8f-f600-2aeb98a276ce"
      },
      "execution_count": null,
      "outputs": [
        {
          "output_type": "execute_result",
          "data": {
            "text/plain": [
              "(array([4305, 4649]), array([0, 0]))"
            ]
          },
          "metadata": {},
          "execution_count": 134
        }
      ]
    },
    {
      "cell_type": "code",
      "source": [
        "# recordings with the lowest predicted probabilities\n",
        "lowest = np.where(yhat_probs <= np.quantile(yhat_probs, 0.0001))[0]\n",
        "lowest"
      ],
      "metadata": {
        "colab": {
          "base_uri": "https://localhost:8080/"
        },
        "id": "t_zGJU0vADUn",
        "outputId": "bb19469b-4578-4a46-c8e5-cc3e458cde93"
      },
      "execution_count": null,
      "outputs": [
        {
          "output_type": "execute_result",
          "data": {
            "text/plain": [
              "array([8243, 9825])"
            ]
          },
          "metadata": {},
          "execution_count": 136
        }
      ]
    },
    {
      "cell_type": "code",
      "source": [
        "plt.plot(X_test[4649,:])\n",
        "plt.title(\"LSTM - ECG recording for higher predicted probability\")\n",
        "#highest[1]"
      ],
      "metadata": {
        "colab": {
          "base_uri": "https://localhost:8080/",
          "height": 298
        },
        "id": "2cdOdiDi96ah",
        "outputId": "311a0fae-bc6c-4f2b-a77a-898f66901519"
      },
      "execution_count": null,
      "outputs": [
        {
          "output_type": "execute_result",
          "data": {
            "text/plain": [
              "Text(0.5, 1.0, 'LSTM - ECG recording for higher predicted probability')"
            ]
          },
          "metadata": {},
          "execution_count": 141
        },
        {
          "output_type": "display_data",
          "data": {
            "text/plain": [
              "<Figure size 432x288 with 1 Axes>"
            ],
            "image/png": "[encoded data removed]"
          },
          "metadata": {
            "needs_background": "light"
          }
        }
      ]
    },
    {
      "cell_type": "code",
      "source": [
        "print(y_test[4649], y_test[8243])"
      ],
      "metadata": {
        "colab": {
          "base_uri": "https://localhost:8080/"
        },
        "id": "tHzwO-A_Oxqj",
        "outputId": "60548f54-e509-46fd-f32a-1f0586416cdb"
      },
      "execution_count": null,
      "outputs": [
        {
          "output_type": "stream",
          "name": "stdout",
          "text": [
            "0.0 0.0\n"
          ]
        }
      ]
    },
    {
      "cell_type": "code",
      "source": [
        "#lowest \n",
        "plt.plot(X_test[8243,:])\n",
        "plt.title(\"LSTM - ECG recording for lowest predicted probability\")"
      ],
      "metadata": {
        "colab": {
          "base_uri": "https://localhost:8080/",
          "height": 298
        },
        "id": "zDiAbrikNpMa",
        "outputId": "eaef47e5-a455-4777-c2e9-513807eb00c9"
      },
      "execution_count": null,
      "outputs": [
        {
          "output_type": "execute_result",
          "data": {
            "text/plain": [
              "Text(0.5, 1.0, 'LSTM - ECG recording for lowest predicted probability')"
            ]
          },
          "metadata": {},
          "execution_count": 142
        },
        {
          "output_type": "display_data",
          "data": {
            "text/plain": [
              "<Figure size 432x288 with 1 Axes>"
            ],
            "image/png": "[encoded data removed]"
          },
          "metadata": {
            "needs_background": "light"
          }
        }
      ]
    },
    {
      "cell_type": "code",
      "source": [
        "y_test[9825]"
      ],
      "metadata": {
        "colab": {
          "base_uri": "https://localhost:8080/"
        },
        "id": "ngQb_NgNOsOe",
        "outputId": "fbf274e4-17df-4ae6-f431-4ca35b0cf8aa"
      },
      "execution_count": null,
      "outputs": [
        {
          "output_type": "execute_result",
          "data": {
            "text/plain": [
              "0.0"
            ]
          },
          "metadata": {},
          "execution_count": 116
        }
      ]
    },
    {
      "cell_type": "code",
      "source": [
        "fig, (ax1, ax2) = plt.subplots(2)\n",
        "fig.suptitle('Heartbeats with very high predicted probability of arrhythmia')\n",
        "ax1.plot(X_test[highest[1],:])\n",
        "ax2.plot(X_test[highest[2],:])\n"
      ],
      "metadata": {
        "colab": {
          "base_uri": "https://localhost:8080/",
          "height": 311
        },
        "id": "eh_Nv0KV_sai",
        "outputId": "dbfce416-2ff0-413b-be0d-c4cd4285b8e0"
      },
      "execution_count": null,
      "outputs": [
        {
          "output_type": "execute_result",
          "data": {
            "text/plain": [
              "[<matplotlib.lines.Line2D at 0x7f011686a150>]"
            ]
          },
          "metadata": {},
          "execution_count": 82
        },
        {
          "output_type": "display_data",
          "data": {
            "text/plain": [
              "<Figure size 432x288 with 2 Axes>"
            ],
            "image/png": "[encoded data removed]"
          },
          "metadata": {
            "needs_background": "light"
          }
        }
      ]
    },
    {
      "cell_type": "code",
      "source": [
        "test_labels_ab[highest[1]],test_labels_ab[highest[2]]\n",
        "# both are abnormal"
      ],
      "metadata": {
        "colab": {
          "base_uri": "https://localhost:8080/"
        },
        "id": "hOipCz7U_sdj",
        "outputId": "1a8c436f-55a5-47b0-80bf-9b335c36adb0"
      },
      "execution_count": null,
      "outputs": [
        {
          "output_type": "execute_result",
          "data": {
            "text/plain": [
              "(array([0.]), array([0.]))"
            ]
          },
          "metadata": {},
          "execution_count": 85
        }
      ]
    },
    {
      "cell_type": "code",
      "source": [
        "fig, (ax1, ax2) = plt.subplots(2)\n",
        "fig.suptitle('Heartbeats with very high predicted probability of arrhythmia')\n",
        "ax1.plot(X_test[highest[3],:])\n",
        "ax2.plot(X_test[highest[4],:])"
      ],
      "metadata": {
        "colab": {
          "base_uri": "https://localhost:8080/",
          "height": 311
        },
        "id": "nqmpZg8c_shw",
        "outputId": "07309fc4-74fe-4a19-9e20-cd6587031329"
      },
      "execution_count": null,
      "outputs": [
        {
          "output_type": "execute_result",
          "data": {
            "text/plain": [
              "[<matplotlib.lines.Line2D at 0x7f01167b5490>]"
            ]
          },
          "metadata": {},
          "execution_count": 83
        },
        {
          "output_type": "display_data",
          "data": {
            "text/plain": [
              "<Figure size 432x288 with 2 Axes>"
            ],
            "image/png": "[encoded data removed]"
          },
          "metadata": {
            "needs_background": "light"
          }
        }
      ]
    },
    {
      "cell_type": "code",
      "source": [
        "test_labels_ab[highest[3]],test_labels_ab[highest[4]]\n",
        "# both are abnormal"
      ],
      "metadata": {
        "colab": {
          "base_uri": "https://localhost:8080/"
        },
        "id": "tmi3cSee_wF6",
        "outputId": "3f4186bf-9918-4228-cfb4-cb34926e4632"
      },
      "execution_count": null,
      "outputs": [
        {
          "output_type": "execute_result",
          "data": {
            "text/plain": [
              "(array([0.]), array([1.]))"
            ]
          },
          "metadata": {},
          "execution_count": 84
        }
      ]
    },
    {
      "cell_type": "code",
      "source": [
        "fig, (ax1, ax2) = plt.subplots(2)\n",
        "fig.suptitle('Heartbeats with very low predicted probability of arrhythmia')\n",
        "ax1.plot(X_test[lowest[1],:])\n",
        "ax2.plot(X_test[lowest[2],:])"
      ],
      "metadata": {
        "colab": {
          "base_uri": "https://localhost:8080/",
          "height": 311
        },
        "id": "KYRSrfOR_wMA",
        "outputId": "0e5d611b-2fd2-488e-9f5d-2cf85e6cf51d"
      },
      "execution_count": null,
      "outputs": [
        {
          "output_type": "execute_result",
          "data": {
            "text/plain": [
              "[<matplotlib.lines.Line2D at 0x7f01165aee90>]"
            ]
          },
          "metadata": {},
          "execution_count": 89
        },
        {
          "output_type": "display_data",
          "data": {
            "text/plain": [
              "<Figure size 432x288 with 2 Axes>"
            ],
            "image/png": "[encoded data removed]"
          },
          "metadata": {
            "needs_background": "light"
          }
        }
      ]
    },
    {
      "cell_type": "code",
      "source": [
        "test_labels_ab[lowest[1]],test_labels_ab[lowest[2]]\n",
        "# both are normal"
      ],
      "metadata": {
        "colab": {
          "base_uri": "https://localhost:8080/"
        },
        "id": "Y0J9Wvr5_2Qx",
        "outputId": "f478f421-6b02-4773-f525-c62f43caf159"
      },
      "execution_count": null,
      "outputs": [
        {
          "output_type": "execute_result",
          "data": {
            "text/plain": [
              "(array([0.]), array([0.]))"
            ]
          },
          "metadata": {},
          "execution_count": 90
        }
      ]
    },
    {
      "cell_type": "code",
      "source": [
        "fig, (ax1, ax2) = plt.subplots(2)\n",
        "fig.suptitle('Heartbeats with very low predicted probability of arrhythmia')\n",
        "ax1.plot(X_test[lowest[3],:])\n",
        "ax2.plot(X_test[lowest[4],:])"
      ],
      "metadata": {
        "colab": {
          "base_uri": "https://localhost:8080/",
          "height": 311
        },
        "id": "8Wvb9mi5_2TM",
        "outputId": "442ec358-b2db-487a-f1e5-181aed17b18e"
      },
      "execution_count": null,
      "outputs": [
        {
          "output_type": "execute_result",
          "data": {
            "text/plain": [
              "[<matplotlib.lines.Line2D at 0x7f01164f5790>]"
            ]
          },
          "metadata": {},
          "execution_count": 91
        },
        {
          "output_type": "display_data",
          "data": {
            "text/plain": [
              "<Figure size 432x288 with 2 Axes>"
            ],
            "image/png": "[encoded data removed]"
          },
          "metadata": {
            "needs_background": "light"
          }
        }
      ]
    },
    {
      "cell_type": "code",
      "source": [
        "test_labels_ab[lowest[3]], test_labels_ab[lowest[4]]\n",
        "# both are normal"
      ],
      "metadata": {
        "colab": {
          "base_uri": "https://localhost:8080/"
        },
        "id": "hyYtjNMP_2YG",
        "outputId": "025432ee-19ec-439a-cd19-bbda7cf4b712"
      },
      "execution_count": null,
      "outputs": [
        {
          "output_type": "execute_result",
          "data": {
            "text/plain": [
              "(array([0.]), array([0.]))"
            ]
          },
          "metadata": {},
          "execution_count": 92
        }
      ]
    },
    {
      "cell_type": "code",
      "source": [
        "### VISUAL INTERPRETATION\n",
        "# recordings with the highest predicted probabilities\n",
        "highest = np.where(yhat_probs >= np.quantile(yhat_probs,.99999))[0]\n",
        "highest\n",
        "X_test[highest,:]\n",
        "\n",
        "plt.plot(X_test[highest[1],:])\n",
        "highest[1]\n",
        "\n",
        "#recordings with the lowest predicted probabilities\n",
        "lowest = np.where(yhat_probs <= np.quantile(yhat_probs,.001))[0]\n",
        "test_labels_ab[lowest[2]]\n",
        "\n",
        "fig, (ax1, ax2) = plt.subplots(2)\n",
        "fig.suptitle('Heartbeats with very high predicted probability of arrhythmia')\n",
        "ax1.plot(X_test[highest[1],:])\n",
        "ax2.plot(X_test[highest[2],:])\n",
        "\n",
        "test_labels_ab[highest[1]],test_labels_ab[highest[2]]\n",
        "# both are abnormal\n",
        "\n",
        "fig, (ax1, ax2) = plt.subplots(2)\n",
        "fig.suptitle('Heartbeats with very high predicted probability of arrhythmia')\n",
        "ax1.plot(X_test[highest[3],:])\n",
        "ax2.plot(X_test[highest[4],:])\n",
        "\n",
        "test_labels_ab[highest[3]],test_labels_ab[highest[4]]\n",
        "# both are abnormal\n",
        "\n",
        "fig, (ax1, ax2) = plt.subplots(2)\n",
        "fig.suptitle('Heartbeats with very low predicted probability of arrhythmia')\n",
        "ax1.plot(X_test[lowest[1],:])\n",
        "ax2.plot(X_test[lowest[2],:])\n",
        "\n",
        "test_labels_ab[lowest[1]],test_labels_ab[lowest[2]]\n",
        "# both are normal\n",
        "\n",
        "fig, (ax1, ax2) = plt.subplots(2)\n",
        "fig.suptitle('Heartbeats with very low predicted probability of arrhythmia')\n",
        "ax1.plot(X_test[lowest[3],:])\n",
        "ax2.plot(X_test[lowest[4],:])\n",
        "\n",
        "test_labels_ab[lowest[3]], test_labels_ab[lowest[4]]\n",
        "# both are normal"
      ],
      "metadata": {
        "colab": {
          "base_uri": "https://localhost:8080/",
          "height": 236
        },
        "id": "zqKADZ0W96eT",
        "outputId": "dcbf977a-e416-4e7a-e0d9-5bd0d34317d9"
      },
      "execution_count": null,
      "outputs": [
        {
          "output_type": "error",
          "ename": "IndexError",
          "evalue": "ignored",
          "traceback": [
            "\u001b[0;31m---------------------------------------------------------------------------\u001b[0m",
            "\u001b[0;31mIndexError\u001b[0m                                Traceback (most recent call last)",
            "\u001b[0;32m<ipython-input-93-d82580b8c922>\u001b[0m in \u001b[0;36m<module>\u001b[0;34m\u001b[0m\n\u001b[1;32m      5\u001b[0m \u001b[0mX_test\u001b[0m\u001b[0;34m[\u001b[0m\u001b[0mhighest\u001b[0m\u001b[0;34m,\u001b[0m\u001b[0;34m:\u001b[0m\u001b[0;34m]\u001b[0m\u001b[0;34m\u001b[0m\u001b[0;34m\u001b[0m\u001b[0m\n\u001b[1;32m      6\u001b[0m \u001b[0;34m\u001b[0m\u001b[0m\n\u001b[0;32m----> 7\u001b[0;31m \u001b[0mplt\u001b[0m\u001b[0;34m.\u001b[0m\u001b[0mplot\u001b[0m\u001b[0;34m(\u001b[0m\u001b[0mX_test\u001b[0m\u001b[0;34m[\u001b[0m\u001b[0mhighest\u001b[0m\u001b[0;34m[\u001b[0m\u001b[0;36m1\u001b[0m\u001b[0;34m]\u001b[0m\u001b[0;34m,\u001b[0m\u001b[0;34m:\u001b[0m\u001b[0;34m]\u001b[0m\u001b[0;34m)\u001b[0m\u001b[0;34m\u001b[0m\u001b[0;34m\u001b[0m\u001b[0m\n\u001b[0m\u001b[1;32m      8\u001b[0m \u001b[0mhighest\u001b[0m\u001b[0;34m[\u001b[0m\u001b[0;36m1\u001b[0m\u001b[0;34m]\u001b[0m\u001b[0;34m\u001b[0m\u001b[0;34m\u001b[0m\u001b[0m\n\u001b[1;32m      9\u001b[0m \u001b[0;34m\u001b[0m\u001b[0m\n",
            "\u001b[0;31mIndexError\u001b[0m: index 1 is out of bounds for axis 0 with size 1"
          ]
        }
      ]
    }
  ]
}